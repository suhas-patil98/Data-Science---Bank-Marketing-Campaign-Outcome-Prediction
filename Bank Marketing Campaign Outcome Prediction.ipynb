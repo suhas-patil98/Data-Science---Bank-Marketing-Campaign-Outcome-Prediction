{
 "cells": [
  {
   "cell_type": "markdown",
   "metadata": {},
   "source": [
    "# Bank Marketing Campaign Outcome Prediction"
   ]
  },
  {
   "cell_type": "markdown",
   "metadata": {},
   "source": [
    "### Abstract:"
   ]
  },
  {
   "cell_type": "markdown",
   "metadata": {},
   "source": [
    "The data is related with direct marketing campaigns (phone calls) of a Portuguese banking institution. The classification goal is to predict if the client will subscribe a term deposit (variable y)."
   ]
  },
  {
   "cell_type": "markdown",
   "metadata": {},
   "source": [
    "### Data Set Information:"
   ]
  },
  {
   "cell_type": "markdown",
   "metadata": {},
   "source": [
    "The data is related with direct marketing campaigns of a Portuguese banking institution. The marketing campaigns were based on phone calls. Often, more than one contact to the same client was required, in order to access if the product (bank term deposit) would be ('yes') or not ('no') subscribed.\n",
    "\n",
    "The classification goal is to predict if the client will subscribe (yes/no) a term deposit (variable y)."
   ]
  },
  {
   "cell_type": "markdown",
   "metadata": {},
   "source": [
    "### Attribute Information: "
   ]
  },
  {
   "cell_type": "markdown",
   "metadata": {},
   "source": [
    "#### Input variables: "
   ]
  },
  {
   "cell_type": "markdown",
   "metadata": {},
   "source": [
    "##### bank client data: "
   ]
  },
  {
   "cell_type": "markdown",
   "metadata": {},
   "source": [
    "1. age (numeric)\n",
    "2. job : type of job (categorical: 'admin.','blue-collar','entrepreneur','housemaid','management','retired','self-employed','services','student','technician','unemployed','unknown')\n",
    "3. marital : marital status (categorical: 'divorced','married','single','unknown'; note: 'divorced' means divorced or widowed)\n",
    "4. education (categorical: 'basic.4y','basic.6y','basic.9y','high.school','illiterate','professional.course','university.degree','unknown')\n",
    "5. default: has credit in default? (categorical: 'no','yes','unknown')\n",
    "6. housing: has housing loan? (categorical: 'no','yes','unknown')\n",
    "7. loan: has personal loan? (categorical: 'no','yes','unknown')\n",
    "##### related with the last contact of the current campaign:\n",
    "8. contact: contact communication type (categorical: 'cellular','telephone')\n",
    "9. month: last contact month of year (categorical: 'jan', 'feb', 'mar', ..., 'nov', 'dec')\n",
    "10. day_of_week: last contact day of the week (categorical: 'mon','tue','wed','thu','fri')\n",
    "11. duration: last contact duration, in seconds (numeric). Important note: this attribute highly affects the output target (e.g., if duration=0 then y='no'). Yet, the duration is not known before a call is performed. \n",
    "Also, after the end of the call y is obviously known. Thus, this input should only be included for benchmark purposes and should be discarded if the intention is to have a realistic predictive model."
   ]
  },
  {
   "cell_type": "markdown",
   "metadata": {},
   "source": [
    "##### other attributes:"
   ]
  },
  {
   "cell_type": "markdown",
   "metadata": {},
   "source": [
    "12. campaign: number of contacts performed during this campaign and for this client (numeric, includes last contact)\n",
    "13. pdays: number of days that passed by after the client was last contacted from a previous campaign (numeric; 999 means client was not previously contacted)\n",
    "14. previous: number of contacts performed before this campaign and for this client (numeric)\n",
    "15. poutcome: outcome of the previous marketing campaign (categorical: 'failure','nonexistent','success')"
   ]
  },
  {
   "cell_type": "markdown",
   "metadata": {},
   "source": [
    "##### social and economic context attributes: "
   ]
  },
  {
   "cell_type": "markdown",
   "metadata": {},
   "source": [
    "16. emp.var.rate: employment variation rate - quarterly indicator (numeric)\n",
    "17. cons.price.idx: consumer price index - monthly indicator (numeric)\n",
    "18. cons.conf.idx: consumer confidence index - monthly indicator (numeric)\n",
    "19. euribor3m: euribor 3 month rate - daily indicator (numeric)\n",
    "20. nr.employed: number of employees - quarterly indicator (numeric)\n"
   ]
  },
  {
   "cell_type": "markdown",
   "metadata": {},
   "source": [
    "#### Output variable (desired target):"
   ]
  },
  {
   "cell_type": "markdown",
   "metadata": {},
   "source": [
    "21. y - has the client subscribed a term deposit? (binary: 'yes','no')"
   ]
  },
  {
   "cell_type": "markdown",
   "metadata": {},
   "source": [
    "### Data Source: "
   ]
  },
  {
   "cell_type": "markdown",
   "metadata": {},
   "source": [
    "http://archive.ics.uci.edu/ml/datasets/Bank+Marketing"
   ]
  },
  {
   "cell_type": "markdown",
   "metadata": {},
   "source": [
    "### Importing the required libraries: "
   ]
  },
  {
   "cell_type": "code",
   "execution_count": 1,
   "metadata": {},
   "outputs": [],
   "source": [
    "import pandas as pd\n",
    "import numpy as np\n",
    "import matplotlib.pyplot as plt\n",
    "import seaborn as sns\n",
    "from sklearn.model_selection import train_test_split\n",
    "from sklearn.preprocessing import MinMaxScaler\n",
    "from sklearn.model_selection import GridSearchCV\n",
    "import sklearn.metrics as skm\n",
    "from sklearn.metrics import roc_curve\n",
    "from sklearn.metrics import classification_report\n",
    "from sklearn.metrics import recall_score, precision_score, roc_auc_score, confusion_matrix"
   ]
  },
  {
   "cell_type": "markdown",
   "metadata": {},
   "source": [
    "### Reading the data into a dataframe:"
   ]
  },
  {
   "cell_type": "code",
   "execution_count": 2,
   "metadata": {},
   "outputs": [],
   "source": [
    "bank_marketing = pd.read_csv('bank-additional-full.csv', sep = ';')"
   ]
  },
  {
   "cell_type": "markdown",
   "metadata": {},
   "source": [
    "### Data Exploration: "
   ]
  },
  {
   "cell_type": "code",
   "execution_count": 3,
   "metadata": {},
   "outputs": [
    {
     "data": {
      "text/plain": [
       "(41188, 21)"
      ]
     },
     "execution_count": 3,
     "metadata": {},
     "output_type": "execute_result"
    }
   ],
   "source": [
    "bank_marketing.shape"
   ]
  },
  {
   "cell_type": "code",
   "execution_count": 4,
   "metadata": {},
   "outputs": [],
   "source": [
    "bank_marketing=bank_marketing.replace([np.inf, -np.inf], np.nan)"
   ]
  },
  {
   "cell_type": "code",
   "execution_count": 5,
   "metadata": {},
   "outputs": [],
   "source": [
    "bank_marketing=bank_marketing.dropna()"
   ]
  },
  {
   "cell_type": "code",
   "execution_count": 6,
   "metadata": {},
   "outputs": [
    {
     "data": {
      "text/html": [
       "<div>\n",
       "<style scoped>\n",
       "    .dataframe tbody tr th:only-of-type {\n",
       "        vertical-align: middle;\n",
       "    }\n",
       "\n",
       "    .dataframe tbody tr th {\n",
       "        vertical-align: top;\n",
       "    }\n",
       "\n",
       "    .dataframe thead th {\n",
       "        text-align: right;\n",
       "    }\n",
       "</style>\n",
       "<table border=\"1\" class=\"dataframe\">\n",
       "  <thead>\n",
       "    <tr style=\"text-align: right;\">\n",
       "      <th></th>\n",
       "      <th>age</th>\n",
       "      <th>job</th>\n",
       "      <th>marital</th>\n",
       "      <th>education</th>\n",
       "      <th>default</th>\n",
       "      <th>housing</th>\n",
       "      <th>loan</th>\n",
       "      <th>contact</th>\n",
       "      <th>month</th>\n",
       "      <th>day_of_week</th>\n",
       "      <th>...</th>\n",
       "      <th>campaign</th>\n",
       "      <th>pdays</th>\n",
       "      <th>previous</th>\n",
       "      <th>poutcome</th>\n",
       "      <th>emp.var.rate</th>\n",
       "      <th>cons.price.idx</th>\n",
       "      <th>cons.conf.idx</th>\n",
       "      <th>euribor3m</th>\n",
       "      <th>nr.employed</th>\n",
       "      <th>y</th>\n",
       "    </tr>\n",
       "  </thead>\n",
       "  <tbody>\n",
       "    <tr>\n",
       "      <th>0</th>\n",
       "      <td>56</td>\n",
       "      <td>housemaid</td>\n",
       "      <td>married</td>\n",
       "      <td>basic.4y</td>\n",
       "      <td>no</td>\n",
       "      <td>no</td>\n",
       "      <td>no</td>\n",
       "      <td>telephone</td>\n",
       "      <td>may</td>\n",
       "      <td>mon</td>\n",
       "      <td>...</td>\n",
       "      <td>1</td>\n",
       "      <td>999</td>\n",
       "      <td>0</td>\n",
       "      <td>nonexistent</td>\n",
       "      <td>1.1</td>\n",
       "      <td>93.994</td>\n",
       "      <td>-36.4</td>\n",
       "      <td>4.857</td>\n",
       "      <td>5191.0</td>\n",
       "      <td>no</td>\n",
       "    </tr>\n",
       "    <tr>\n",
       "      <th>1</th>\n",
       "      <td>57</td>\n",
       "      <td>services</td>\n",
       "      <td>married</td>\n",
       "      <td>high.school</td>\n",
       "      <td>unknown</td>\n",
       "      <td>no</td>\n",
       "      <td>no</td>\n",
       "      <td>telephone</td>\n",
       "      <td>may</td>\n",
       "      <td>mon</td>\n",
       "      <td>...</td>\n",
       "      <td>1</td>\n",
       "      <td>999</td>\n",
       "      <td>0</td>\n",
       "      <td>nonexistent</td>\n",
       "      <td>1.1</td>\n",
       "      <td>93.994</td>\n",
       "      <td>-36.4</td>\n",
       "      <td>4.857</td>\n",
       "      <td>5191.0</td>\n",
       "      <td>no</td>\n",
       "    </tr>\n",
       "    <tr>\n",
       "      <th>2</th>\n",
       "      <td>37</td>\n",
       "      <td>services</td>\n",
       "      <td>married</td>\n",
       "      <td>high.school</td>\n",
       "      <td>no</td>\n",
       "      <td>yes</td>\n",
       "      <td>no</td>\n",
       "      <td>telephone</td>\n",
       "      <td>may</td>\n",
       "      <td>mon</td>\n",
       "      <td>...</td>\n",
       "      <td>1</td>\n",
       "      <td>999</td>\n",
       "      <td>0</td>\n",
       "      <td>nonexistent</td>\n",
       "      <td>1.1</td>\n",
       "      <td>93.994</td>\n",
       "      <td>-36.4</td>\n",
       "      <td>4.857</td>\n",
       "      <td>5191.0</td>\n",
       "      <td>no</td>\n",
       "    </tr>\n",
       "    <tr>\n",
       "      <th>3</th>\n",
       "      <td>40</td>\n",
       "      <td>admin.</td>\n",
       "      <td>married</td>\n",
       "      <td>basic.6y</td>\n",
       "      <td>no</td>\n",
       "      <td>no</td>\n",
       "      <td>no</td>\n",
       "      <td>telephone</td>\n",
       "      <td>may</td>\n",
       "      <td>mon</td>\n",
       "      <td>...</td>\n",
       "      <td>1</td>\n",
       "      <td>999</td>\n",
       "      <td>0</td>\n",
       "      <td>nonexistent</td>\n",
       "      <td>1.1</td>\n",
       "      <td>93.994</td>\n",
       "      <td>-36.4</td>\n",
       "      <td>4.857</td>\n",
       "      <td>5191.0</td>\n",
       "      <td>no</td>\n",
       "    </tr>\n",
       "    <tr>\n",
       "      <th>4</th>\n",
       "      <td>56</td>\n",
       "      <td>services</td>\n",
       "      <td>married</td>\n",
       "      <td>high.school</td>\n",
       "      <td>no</td>\n",
       "      <td>no</td>\n",
       "      <td>yes</td>\n",
       "      <td>telephone</td>\n",
       "      <td>may</td>\n",
       "      <td>mon</td>\n",
       "      <td>...</td>\n",
       "      <td>1</td>\n",
       "      <td>999</td>\n",
       "      <td>0</td>\n",
       "      <td>nonexistent</td>\n",
       "      <td>1.1</td>\n",
       "      <td>93.994</td>\n",
       "      <td>-36.4</td>\n",
       "      <td>4.857</td>\n",
       "      <td>5191.0</td>\n",
       "      <td>no</td>\n",
       "    </tr>\n",
       "  </tbody>\n",
       "</table>\n",
       "<p>5 rows × 21 columns</p>\n",
       "</div>"
      ],
      "text/plain": [
       "   age        job  marital    education  default housing loan    contact  \\\n",
       "0   56  housemaid  married     basic.4y       no      no   no  telephone   \n",
       "1   57   services  married  high.school  unknown      no   no  telephone   \n",
       "2   37   services  married  high.school       no     yes   no  telephone   \n",
       "3   40     admin.  married     basic.6y       no      no   no  telephone   \n",
       "4   56   services  married  high.school       no      no  yes  telephone   \n",
       "\n",
       "  month day_of_week  ...  campaign  pdays  previous     poutcome emp.var.rate  \\\n",
       "0   may         mon  ...         1    999         0  nonexistent          1.1   \n",
       "1   may         mon  ...         1    999         0  nonexistent          1.1   \n",
       "2   may         mon  ...         1    999         0  nonexistent          1.1   \n",
       "3   may         mon  ...         1    999         0  nonexistent          1.1   \n",
       "4   may         mon  ...         1    999         0  nonexistent          1.1   \n",
       "\n",
       "   cons.price.idx  cons.conf.idx  euribor3m  nr.employed   y  \n",
       "0          93.994          -36.4      4.857       5191.0  no  \n",
       "1          93.994          -36.4      4.857       5191.0  no  \n",
       "2          93.994          -36.4      4.857       5191.0  no  \n",
       "3          93.994          -36.4      4.857       5191.0  no  \n",
       "4          93.994          -36.4      4.857       5191.0  no  \n",
       "\n",
       "[5 rows x 21 columns]"
      ]
     },
     "execution_count": 6,
     "metadata": {},
     "output_type": "execute_result"
    }
   ],
   "source": [
    "bank_marketing.head()"
   ]
  },
  {
   "cell_type": "code",
   "execution_count": 7,
   "metadata": {},
   "outputs": [
    {
     "name": "stdout",
     "output_type": "stream",
     "text": [
      "<class 'pandas.core.frame.DataFrame'>\n",
      "Int64Index: 41188 entries, 0 to 41187\n",
      "Data columns (total 21 columns):\n",
      "age               41188 non-null int64\n",
      "job               41188 non-null object\n",
      "marital           41188 non-null object\n",
      "education         41188 non-null object\n",
      "default           41188 non-null object\n",
      "housing           41188 non-null object\n",
      "loan              41188 non-null object\n",
      "contact           41188 non-null object\n",
      "month             41188 non-null object\n",
      "day_of_week       41188 non-null object\n",
      "duration          41188 non-null int64\n",
      "campaign          41188 non-null int64\n",
      "pdays             41188 non-null int64\n",
      "previous          41188 non-null int64\n",
      "poutcome          41188 non-null object\n",
      "emp.var.rate      41188 non-null float64\n",
      "cons.price.idx    41188 non-null float64\n",
      "cons.conf.idx     41188 non-null float64\n",
      "euribor3m         41188 non-null float64\n",
      "nr.employed       41188 non-null float64\n",
      "y                 41188 non-null object\n",
      "dtypes: float64(5), int64(5), object(11)\n",
      "memory usage: 6.9+ MB\n"
     ]
    }
   ],
   "source": [
    "bank_marketing.info()"
   ]
  },
  {
   "cell_type": "code",
   "execution_count": 8,
   "metadata": {},
   "outputs": [
    {
     "data": {
      "text/plain": [
       "age               0\n",
       "job               0\n",
       "marital           0\n",
       "education         0\n",
       "default           0\n",
       "housing           0\n",
       "loan              0\n",
       "contact           0\n",
       "month             0\n",
       "day_of_week       0\n",
       "duration          0\n",
       "campaign          0\n",
       "pdays             0\n",
       "previous          0\n",
       "poutcome          0\n",
       "emp.var.rate      0\n",
       "cons.price.idx    0\n",
       "cons.conf.idx     0\n",
       "euribor3m         0\n",
       "nr.employed       0\n",
       "y                 0\n",
       "dtype: int64"
      ]
     },
     "execution_count": 8,
     "metadata": {},
     "output_type": "execute_result"
    }
   ],
   "source": [
    "bank_marketing.isnull().sum()"
   ]
  },
  {
   "cell_type": "code",
   "execution_count": 9,
   "metadata": {},
   "outputs": [
    {
     "data": {
      "text/html": [
       "<div>\n",
       "<style scoped>\n",
       "    .dataframe tbody tr th:only-of-type {\n",
       "        vertical-align: middle;\n",
       "    }\n",
       "\n",
       "    .dataframe tbody tr th {\n",
       "        vertical-align: top;\n",
       "    }\n",
       "\n",
       "    .dataframe thead th {\n",
       "        text-align: right;\n",
       "    }\n",
       "</style>\n",
       "<table border=\"1\" class=\"dataframe\">\n",
       "  <thead>\n",
       "    <tr style=\"text-align: right;\">\n",
       "      <th></th>\n",
       "      <th>age</th>\n",
       "      <th>duration</th>\n",
       "      <th>campaign</th>\n",
       "      <th>pdays</th>\n",
       "      <th>previous</th>\n",
       "      <th>emp.var.rate</th>\n",
       "      <th>cons.price.idx</th>\n",
       "      <th>cons.conf.idx</th>\n",
       "      <th>euribor3m</th>\n",
       "      <th>nr.employed</th>\n",
       "    </tr>\n",
       "  </thead>\n",
       "  <tbody>\n",
       "    <tr>\n",
       "      <th>count</th>\n",
       "      <td>41188.00000</td>\n",
       "      <td>41188.000000</td>\n",
       "      <td>41188.000000</td>\n",
       "      <td>41188.000000</td>\n",
       "      <td>41188.000000</td>\n",
       "      <td>41188.000000</td>\n",
       "      <td>41188.000000</td>\n",
       "      <td>41188.000000</td>\n",
       "      <td>41188.000000</td>\n",
       "      <td>41188.000000</td>\n",
       "    </tr>\n",
       "    <tr>\n",
       "      <th>mean</th>\n",
       "      <td>40.02406</td>\n",
       "      <td>258.285010</td>\n",
       "      <td>2.567593</td>\n",
       "      <td>962.475454</td>\n",
       "      <td>0.172963</td>\n",
       "      <td>0.081886</td>\n",
       "      <td>93.575664</td>\n",
       "      <td>-40.502600</td>\n",
       "      <td>3.621291</td>\n",
       "      <td>5167.035911</td>\n",
       "    </tr>\n",
       "    <tr>\n",
       "      <th>std</th>\n",
       "      <td>10.42125</td>\n",
       "      <td>259.279249</td>\n",
       "      <td>2.770014</td>\n",
       "      <td>186.910907</td>\n",
       "      <td>0.494901</td>\n",
       "      <td>1.570960</td>\n",
       "      <td>0.578840</td>\n",
       "      <td>4.628198</td>\n",
       "      <td>1.734447</td>\n",
       "      <td>72.251528</td>\n",
       "    </tr>\n",
       "    <tr>\n",
       "      <th>min</th>\n",
       "      <td>17.00000</td>\n",
       "      <td>0.000000</td>\n",
       "      <td>1.000000</td>\n",
       "      <td>0.000000</td>\n",
       "      <td>0.000000</td>\n",
       "      <td>-3.400000</td>\n",
       "      <td>92.201000</td>\n",
       "      <td>-50.800000</td>\n",
       "      <td>0.634000</td>\n",
       "      <td>4963.600000</td>\n",
       "    </tr>\n",
       "    <tr>\n",
       "      <th>25%</th>\n",
       "      <td>32.00000</td>\n",
       "      <td>102.000000</td>\n",
       "      <td>1.000000</td>\n",
       "      <td>999.000000</td>\n",
       "      <td>0.000000</td>\n",
       "      <td>-1.800000</td>\n",
       "      <td>93.075000</td>\n",
       "      <td>-42.700000</td>\n",
       "      <td>1.344000</td>\n",
       "      <td>5099.100000</td>\n",
       "    </tr>\n",
       "    <tr>\n",
       "      <th>50%</th>\n",
       "      <td>38.00000</td>\n",
       "      <td>180.000000</td>\n",
       "      <td>2.000000</td>\n",
       "      <td>999.000000</td>\n",
       "      <td>0.000000</td>\n",
       "      <td>1.100000</td>\n",
       "      <td>93.749000</td>\n",
       "      <td>-41.800000</td>\n",
       "      <td>4.857000</td>\n",
       "      <td>5191.000000</td>\n",
       "    </tr>\n",
       "    <tr>\n",
       "      <th>75%</th>\n",
       "      <td>47.00000</td>\n",
       "      <td>319.000000</td>\n",
       "      <td>3.000000</td>\n",
       "      <td>999.000000</td>\n",
       "      <td>0.000000</td>\n",
       "      <td>1.400000</td>\n",
       "      <td>93.994000</td>\n",
       "      <td>-36.400000</td>\n",
       "      <td>4.961000</td>\n",
       "      <td>5228.100000</td>\n",
       "    </tr>\n",
       "    <tr>\n",
       "      <th>max</th>\n",
       "      <td>98.00000</td>\n",
       "      <td>4918.000000</td>\n",
       "      <td>56.000000</td>\n",
       "      <td>999.000000</td>\n",
       "      <td>7.000000</td>\n",
       "      <td>1.400000</td>\n",
       "      <td>94.767000</td>\n",
       "      <td>-26.900000</td>\n",
       "      <td>5.045000</td>\n",
       "      <td>5228.100000</td>\n",
       "    </tr>\n",
       "  </tbody>\n",
       "</table>\n",
       "</div>"
      ],
      "text/plain": [
       "               age      duration      campaign         pdays      previous  \\\n",
       "count  41188.00000  41188.000000  41188.000000  41188.000000  41188.000000   \n",
       "mean      40.02406    258.285010      2.567593    962.475454      0.172963   \n",
       "std       10.42125    259.279249      2.770014    186.910907      0.494901   \n",
       "min       17.00000      0.000000      1.000000      0.000000      0.000000   \n",
       "25%       32.00000    102.000000      1.000000    999.000000      0.000000   \n",
       "50%       38.00000    180.000000      2.000000    999.000000      0.000000   \n",
       "75%       47.00000    319.000000      3.000000    999.000000      0.000000   \n",
       "max       98.00000   4918.000000     56.000000    999.000000      7.000000   \n",
       "\n",
       "       emp.var.rate  cons.price.idx  cons.conf.idx     euribor3m   nr.employed  \n",
       "count  41188.000000    41188.000000   41188.000000  41188.000000  41188.000000  \n",
       "mean       0.081886       93.575664     -40.502600      3.621291   5167.035911  \n",
       "std        1.570960        0.578840       4.628198      1.734447     72.251528  \n",
       "min       -3.400000       92.201000     -50.800000      0.634000   4963.600000  \n",
       "25%       -1.800000       93.075000     -42.700000      1.344000   5099.100000  \n",
       "50%        1.100000       93.749000     -41.800000      4.857000   5191.000000  \n",
       "75%        1.400000       93.994000     -36.400000      4.961000   5228.100000  \n",
       "max        1.400000       94.767000     -26.900000      5.045000   5228.100000  "
      ]
     },
     "execution_count": 9,
     "metadata": {},
     "output_type": "execute_result"
    }
   ],
   "source": [
    "bank_marketing.describe()"
   ]
  },
  {
   "cell_type": "code",
   "execution_count": 10,
   "metadata": {},
   "outputs": [
    {
     "data": {
      "text/html": [
       "<div>\n",
       "<style scoped>\n",
       "    .dataframe tbody tr th:only-of-type {\n",
       "        vertical-align: middle;\n",
       "    }\n",
       "\n",
       "    .dataframe tbody tr th {\n",
       "        vertical-align: top;\n",
       "    }\n",
       "\n",
       "    .dataframe thead th {\n",
       "        text-align: right;\n",
       "    }\n",
       "</style>\n",
       "<table border=\"1\" class=\"dataframe\">\n",
       "  <thead>\n",
       "    <tr style=\"text-align: right;\">\n",
       "      <th></th>\n",
       "      <th>job</th>\n",
       "      <th>marital</th>\n",
       "      <th>education</th>\n",
       "      <th>default</th>\n",
       "      <th>housing</th>\n",
       "      <th>loan</th>\n",
       "      <th>contact</th>\n",
       "      <th>month</th>\n",
       "      <th>day_of_week</th>\n",
       "      <th>poutcome</th>\n",
       "      <th>y</th>\n",
       "    </tr>\n",
       "  </thead>\n",
       "  <tbody>\n",
       "    <tr>\n",
       "      <th>count</th>\n",
       "      <td>41188</td>\n",
       "      <td>41188</td>\n",
       "      <td>41188</td>\n",
       "      <td>41188</td>\n",
       "      <td>41188</td>\n",
       "      <td>41188</td>\n",
       "      <td>41188</td>\n",
       "      <td>41188</td>\n",
       "      <td>41188</td>\n",
       "      <td>41188</td>\n",
       "      <td>41188</td>\n",
       "    </tr>\n",
       "    <tr>\n",
       "      <th>unique</th>\n",
       "      <td>12</td>\n",
       "      <td>4</td>\n",
       "      <td>8</td>\n",
       "      <td>3</td>\n",
       "      <td>3</td>\n",
       "      <td>3</td>\n",
       "      <td>2</td>\n",
       "      <td>10</td>\n",
       "      <td>5</td>\n",
       "      <td>3</td>\n",
       "      <td>2</td>\n",
       "    </tr>\n",
       "    <tr>\n",
       "      <th>top</th>\n",
       "      <td>admin.</td>\n",
       "      <td>married</td>\n",
       "      <td>university.degree</td>\n",
       "      <td>no</td>\n",
       "      <td>yes</td>\n",
       "      <td>no</td>\n",
       "      <td>cellular</td>\n",
       "      <td>may</td>\n",
       "      <td>thu</td>\n",
       "      <td>nonexistent</td>\n",
       "      <td>no</td>\n",
       "    </tr>\n",
       "    <tr>\n",
       "      <th>freq</th>\n",
       "      <td>10422</td>\n",
       "      <td>24928</td>\n",
       "      <td>12168</td>\n",
       "      <td>32588</td>\n",
       "      <td>21576</td>\n",
       "      <td>33950</td>\n",
       "      <td>26144</td>\n",
       "      <td>13769</td>\n",
       "      <td>8623</td>\n",
       "      <td>35563</td>\n",
       "      <td>36548</td>\n",
       "    </tr>\n",
       "  </tbody>\n",
       "</table>\n",
       "</div>"
      ],
      "text/plain": [
       "           job  marital          education default housing   loan   contact  \\\n",
       "count    41188    41188              41188   41188   41188  41188     41188   \n",
       "unique      12        4                  8       3       3      3         2   \n",
       "top     admin.  married  university.degree      no     yes     no  cellular   \n",
       "freq     10422    24928              12168   32588   21576  33950     26144   \n",
       "\n",
       "        month day_of_week     poutcome      y  \n",
       "count   41188       41188        41188  41188  \n",
       "unique     10           5            3      2  \n",
       "top       may         thu  nonexistent     no  \n",
       "freq    13769        8623        35563  36548  "
      ]
     },
     "execution_count": 10,
     "metadata": {},
     "output_type": "execute_result"
    }
   ],
   "source": [
    "bank_marketing.describe(include='O')"
   ]
  },
  {
   "cell_type": "code",
   "execution_count": 11,
   "metadata": {},
   "outputs": [
    {
     "data": {
      "text/plain": [
       "age                 int64\n",
       "job                object\n",
       "marital            object\n",
       "education          object\n",
       "default            object\n",
       "housing            object\n",
       "loan               object\n",
       "contact            object\n",
       "month              object\n",
       "day_of_week        object\n",
       "duration            int64\n",
       "campaign            int64\n",
       "pdays               int64\n",
       "previous            int64\n",
       "poutcome           object\n",
       "emp.var.rate      float64\n",
       "cons.price.idx    float64\n",
       "cons.conf.idx     float64\n",
       "euribor3m         float64\n",
       "nr.employed       float64\n",
       "y                  object\n",
       "dtype: object"
      ]
     },
     "execution_count": 11,
     "metadata": {},
     "output_type": "execute_result"
    }
   ],
   "source": [
    "bank_marketing.dtypes"
   ]
  },
  {
   "cell_type": "code",
   "execution_count": 12,
   "metadata": {},
   "outputs": [
    {
     "data": {
      "text/plain": [
       "Index(['age', 'job', 'marital', 'education', 'default', 'housing', 'loan',\n",
       "       'contact', 'month', 'day_of_week', 'duration', 'campaign', 'pdays',\n",
       "       'previous', 'poutcome', 'emp.var.rate', 'cons.price.idx',\n",
       "       'cons.conf.idx', 'euribor3m', 'nr.employed', 'y'],\n",
       "      dtype='object')"
      ]
     },
     "execution_count": 12,
     "metadata": {},
     "output_type": "execute_result"
    }
   ],
   "source": [
    "bank_marketing.columns"
   ]
  },
  {
   "cell_type": "markdown",
   "metadata": {},
   "source": [
    "It can be seen that the columns follow different naming conventions - day_of_week and emp.var.rate\n",
    "So, renaming the columns will help us bring in more consistency."
   ]
  },
  {
   "cell_type": "code",
   "execution_count": 13,
   "metadata": {},
   "outputs": [],
   "source": [
    "bank_marketing = bank_marketing.rename(columns= {\"emp.var.rate\":\"emp_var_rate\",\n",
    "                             \"cons.price.idx\": \"cons_price_idx\",\n",
    "                             \"cons.conf.idx\": \"cons_conf_idx\",\n",
    "                             \"nr.employed\": \"nr_employed\"})"
   ]
  },
  {
   "cell_type": "code",
   "execution_count": 14,
   "metadata": {},
   "outputs": [
    {
     "name": "stdout",
     "output_type": "stream",
     "text": [
      "Duplicate Rows except first occurrence based on all columns are :\n",
      "       age          job   marital            education  default housing loan  \\\n",
      "1266    39  blue-collar   married             basic.6y       no      no   no   \n",
      "12261   36      retired   married              unknown       no      no   no   \n",
      "14234   27   technician    single  professional.course       no      no   no   \n",
      "16956   47   technician  divorced          high.school       no     yes   no   \n",
      "18465   32   technician    single  professional.course       no     yes   no   \n",
      "20216   55     services   married          high.school  unknown      no   no   \n",
      "20534   41   technician   married  professional.course       no     yes   no   \n",
      "25217   39       admin.   married    university.degree       no      no   no   \n",
      "28477   24     services    single          high.school       no     yes   no   \n",
      "32516   35       admin.   married    university.degree       no     yes   no   \n",
      "36951   45       admin.   married    university.degree       no      no   no   \n",
      "38281   71      retired    single    university.degree       no      no   no   \n",
      "\n",
      "         contact month day_of_week  ...  campaign  pdays  previous  \\\n",
      "1266   telephone   may         thu  ...         1    999         0   \n",
      "12261  telephone   jul         thu  ...         1    999         0   \n",
      "14234   cellular   jul         mon  ...         2    999         0   \n",
      "16956   cellular   jul         thu  ...         3    999         0   \n",
      "18465   cellular   jul         thu  ...         1    999         0   \n",
      "20216   cellular   aug         mon  ...         1    999         0   \n",
      "20534   cellular   aug         tue  ...         1    999         0   \n",
      "25217   cellular   nov         tue  ...         2    999         0   \n",
      "28477   cellular   apr         tue  ...         1    999         0   \n",
      "32516   cellular   may         fri  ...         4    999         0   \n",
      "36951   cellular   jul         thu  ...         1    999         0   \n",
      "38281  telephone   oct         tue  ...         1    999         0   \n",
      "\n",
      "          poutcome emp_var_rate  cons_price_idx  cons_conf_idx  euribor3m  \\\n",
      "1266   nonexistent          1.1          93.994          -36.4      4.855   \n",
      "12261  nonexistent          1.4          93.918          -42.7      4.966   \n",
      "14234  nonexistent          1.4          93.918          -42.7      4.962   \n",
      "16956  nonexistent          1.4          93.918          -42.7      4.962   \n",
      "18465  nonexistent          1.4          93.918          -42.7      4.968   \n",
      "20216  nonexistent          1.4          93.444          -36.1      4.965   \n",
      "20534  nonexistent          1.4          93.444          -36.1      4.966   \n",
      "25217  nonexistent         -0.1          93.200          -42.0      4.153   \n",
      "28477  nonexistent         -1.8          93.075          -47.1      1.423   \n",
      "32516  nonexistent         -1.8          92.893          -46.2      1.313   \n",
      "36951  nonexistent         -2.9          92.469          -33.6      1.072   \n",
      "38281  nonexistent         -3.4          92.431          -26.9      0.742   \n",
      "\n",
      "       nr_employed    y  \n",
      "1266        5191.0   no  \n",
      "12261       5228.1   no  \n",
      "14234       5228.1   no  \n",
      "16956       5228.1   no  \n",
      "18465       5228.1   no  \n",
      "20216       5228.1   no  \n",
      "20534       5228.1   no  \n",
      "25217       5195.8   no  \n",
      "28477       5099.1   no  \n",
      "32516       5099.1   no  \n",
      "36951       5076.2  yes  \n",
      "38281       5017.5   no  \n",
      "\n",
      "[12 rows x 21 columns]\n"
     ]
    }
   ],
   "source": [
    "duplicate_rows = bank_marketing[bank_marketing.duplicated()]\n",
    " \n",
    "print(\"Duplicate Rows except first occurrence based on all columns are :\")\n",
    "print(duplicate_rows)"
   ]
  },
  {
   "cell_type": "code",
   "execution_count": 15,
   "metadata": {},
   "outputs": [],
   "source": [
    "bank_marketing.drop_duplicates(keep=False,inplace=True)"
   ]
  },
  {
   "cell_type": "code",
   "execution_count": 16,
   "metadata": {},
   "outputs": [
    {
     "name": "stdout",
     "output_type": "stream",
     "text": [
      "Duplicate Rows except first occurrence based on all columns are :\n",
      "Empty DataFrame\n",
      "Columns: [age, job, marital, education, default, housing, loan, contact, month, day_of_week, duration, campaign, pdays, previous, poutcome, emp_var_rate, cons_price_idx, cons_conf_idx, euribor3m, nr_employed, y]\n",
      "Index: []\n",
      "\n",
      "[0 rows x 21 columns]\n"
     ]
    }
   ],
   "source": [
    "duplicate_rows_check = bank_marketing[bank_marketing.duplicated()]\n",
    " \n",
    "print(\"Duplicate Rows except first occurrence based on all columns are :\")\n",
    "print(duplicate_rows_check)"
   ]
  },
  {
   "cell_type": "code",
   "execution_count": 17,
   "metadata": {},
   "outputs": [
    {
     "data": {
      "text/plain": [
       "Text(0.5, 1, 'Heatmap for highest correlated features in Bank Marketing data')"
      ]
     },
     "execution_count": 17,
     "metadata": {},
     "output_type": "execute_result"
    },
    {
     "data": {
      "image/png": "[encoded data removed]",
      "text/plain": [
       "<Figure size 720x720 with 2 Axes>"
      ]
     },
     "metadata": {
      "needs_background": "light"
     },
     "output_type": "display_data"
    }
   ],
   "source": [
    "fig, ax = plt.subplots(figsize=(10,10))\n",
    "sns.heatmap(bank_marketing.corr(), cmap=\"Blues\",annot=True, linewidths=.5)\n",
    "plt.title(\"Heatmap for highest correlated features in Bank Marketing data\")"
   ]
  },
  {
   "cell_type": "markdown",
   "metadata": {},
   "source": [
    "### Exploring Variables "
   ]
  },
  {
   "cell_type": "markdown",
   "metadata": {},
   "source": [
    "#### y - has the client subscribed a term deposit? "
   ]
  },
  {
   "cell_type": "code",
   "execution_count": 18,
   "metadata": {},
   "outputs": [
    {
     "name": "stdout",
     "output_type": "stream",
     "text": [
      "Number of yes: 4638\n",
      "Percentage 0.11267126615489262\n"
     ]
    }
   ],
   "source": [
    "print('Number of yes:',sum(bank_marketing.y=='yes'))\n",
    "print('Percentage',sum(bank_marketing.y=='yes')/bank_marketing.y.count())"
   ]
  },
  {
   "cell_type": "code",
   "execution_count": 19,
   "metadata": {},
   "outputs": [],
   "source": [
    "bank_marketing.y = bank_marketing.y.replace(['yes','no'],[1,0])"
   ]
  },
  {
   "cell_type": "code",
   "execution_count": 20,
   "metadata": {},
   "outputs": [
    {
     "data": {
      "image/png": "[encoded data removed]",
      "text/plain": [
       "<Figure size 864x576 with 1 Axes>"
      ]
     },
     "metadata": {
      "needs_background": "light"
     },
     "output_type": "display_data"
    }
   ],
   "source": [
    "fig, ax = plt.subplots()\n",
    "fig.set_size_inches(12, 8)\n",
    "sns.countplot(x = 'y', data = bank_marketing)\n",
    "ax.set_xlabel('final Outcome')\n",
    "ax.set_ylabel('Number of Occurrences')\n",
    "ax.set_title('Outcome Distribution')\n",
    "ax.tick_params(labelsize=15)"
   ]
  },
  {
   "cell_type": "markdown",
   "metadata": {},
   "source": [
    "It is clear that the outcome in the dataset is highly imbalanced. For imbalanced data sets, accuracy alone won't cut is as the metric to measure the model. This is a case where we need to avoid false positives as we want to be sure about people who can invest in term deposits with the bank. Since our goal is to reduce the False Positives, precision is a good metric to track."
   ]
  },
  {
   "cell_type": "markdown",
   "metadata": {},
   "source": [
    "#### Age "
   ]
  },
  {
   "cell_type": "code",
   "execution_count": 21,
   "metadata": {},
   "outputs": [
    {
     "name": "stdout",
     "output_type": "stream",
     "text": [
      "Min age:  98\n",
      "Max age:  17\n",
      "Null Values:  False\n"
     ]
    }
   ],
   "source": [
    "print('Min age: ', bank_marketing['age'].max())\n",
    "print('Max age: ', bank_marketing['age'].min())\n",
    "print('Null Values: ', bank_marketing['age'].isnull().any())"
   ]
  },
  {
   "cell_type": "code",
   "execution_count": 22,
   "metadata": {},
   "outputs": [
    {
     "data": {
      "image/png": "[encoded data removed]",
      "text/plain": [
       "<Figure size 1080x1080 with 2 Axes>"
      ]
     },
     "metadata": {
      "needs_background": "light"
     },
     "output_type": "display_data"
    }
   ],
   "source": [
    "fig, (ax1, ax2) = plt.subplots(nrows = 2, ncols = 1, figsize = (15, 15))\n",
    "sns.boxplot(x = 'age', data = bank_marketing, orient = 'v', ax = ax1)\n",
    "ax1.set_xlabel('People Age', fontsize=15)\n",
    "ax1.set_ylabel('Age', fontsize=15)\n",
    "ax1.set_title('Age Distribution', fontsize=15)\n",
    "ax1.tick_params(labelsize=15)\n",
    "\n",
    "sns.distplot(bank_marketing['age'], ax = ax2)\n",
    "ax2.set_xlabel('Age', fontsize=15)\n",
    "ax2.set_ylabel('Occurence', fontsize=15)\n",
    "ax2.set_title('Age x Ocucurence', fontsize=15)\n",
    "ax2.tick_params(labelsize=15)\n",
    "\n",
    "plt.subplots_adjust(wspace=0.5)\n",
    "plt.tight_layout() "
   ]
  },
  {
   "cell_type": "markdown",
   "metadata": {},
   "source": [
    "#### Job"
   ]
  },
  {
   "cell_type": "code",
   "execution_count": 23,
   "metadata": {},
   "outputs": [
    {
     "data": {
      "image/png": "[encoded data removed]",
      "text/plain": [
       "<Figure size 1440x720 with 1 Axes>"
      ]
     },
     "metadata": {
      "needs_background": "light"
     },
     "output_type": "display_data"
    }
   ],
   "source": [
    "fig, ax = plt.subplots()\n",
    "fig.set_size_inches(20, 10)\n",
    "sns.countplot(x = 'job',hue = 'y', data = bank_marketing)\n",
    "ax.set_xlabel('Job', fontsize=15)\n",
    "ax.set_ylabel('Count', fontsize=15)\n",
    "ax.set_title('Job Count Distribution', fontsize=15)\n",
    "ax.tick_params(labelsize=15)"
   ]
  },
  {
   "cell_type": "code",
   "execution_count": 24,
   "metadata": {},
   "outputs": [
    {
     "data": {
      "text/plain": [
       "job            y\n",
       "admin.         0    9066\n",
       "               1    1350\n",
       "blue-collar    0    8614\n",
       "               1     638\n",
       "entrepreneur   0    1332\n",
       "               1     124\n",
       "housemaid      0     954\n",
       "               1     106\n",
       "management     0    2596\n",
       "               1     328\n",
       "retired        0    1282\n",
       "               1     434\n",
       "self-employed  0    1272\n",
       "               1     149\n",
       "services       0    3642\n",
       "               1     323\n",
       "student        0     600\n",
       "               1     275\n",
       "technician     0    6005\n",
       "               1     730\n",
       "unemployed     0     870\n",
       "               1     144\n",
       "unknown        0     293\n",
       "               1      37\n",
       "Name: y, dtype: int64"
      ]
     },
     "execution_count": 24,
     "metadata": {},
     "output_type": "execute_result"
    }
   ],
   "source": [
    "bank_marketing.groupby(['job', 'y'])['y'].count()"
   ]
  },
  {
   "cell_type": "markdown",
   "metadata": {},
   "source": [
    "#### Marital Status"
   ]
  },
  {
   "cell_type": "code",
   "execution_count": 25,
   "metadata": {},
   "outputs": [
    {
     "data": {
      "image/png": "[encoded data removed]",
      "text/plain": [
       "<Figure size 1080x504 with 1 Axes>"
      ]
     },
     "metadata": {
      "needs_background": "light"
     },
     "output_type": "display_data"
    }
   ],
   "source": [
    "fig, ax = plt.subplots()\n",
    "fig.set_size_inches(15, 7)\n",
    "sns.countplot(x = 'marital', hue='y', data = bank_marketing)\n",
    "ax.set_xlabel('Marital', fontsize=15)\n",
    "ax.set_ylabel('Count', fontsize=15)\n",
    "ax.set_title('Marital Status Count Distribution', fontsize=15)\n",
    "ax.tick_params(labelsize=15)"
   ]
  },
  {
   "cell_type": "markdown",
   "metadata": {},
   "source": [
    "#### Education"
   ]
  },
  {
   "cell_type": "code",
   "execution_count": 26,
   "metadata": {},
   "outputs": [
    {
     "data": {
      "image/png": "[encoded data removed]",
      "text/plain": [
       "<Figure size 1080x360 with 1 Axes>"
      ]
     },
     "metadata": {
      "needs_background": "light"
     },
     "output_type": "display_data"
    }
   ],
   "source": [
    "fig, ax = plt.subplots()\n",
    "fig.set_size_inches(15, 5)\n",
    "sns.countplot(x = 'education', hue='y', data = bank_marketing)\n",
    "ax.set_xlabel('Education', fontsize=15)\n",
    "ax.set_ylabel('Count', fontsize=15)\n",
    "ax.set_title('Education Count Distribution', fontsize=15)\n",
    "ax.tick_params(labelsize=15)"
   ]
  },
  {
   "cell_type": "code",
   "execution_count": 27,
   "metadata": {},
   "outputs": [
    {
     "name": "stdout",
     "output_type": "stream",
     "text": [
      "Original :  ['basic.4y' 'high.school' 'basic.6y' 'basic.9y' 'professional.course'\n",
      " 'unknown' 'university.degree' 'illiterate']\n",
      "1729\n"
     ]
    },
    {
     "data": {
      "text/plain": [
       "0.04200272082402099"
      ]
     },
     "execution_count": 27,
     "metadata": {},
     "output_type": "execute_result"
    }
   ],
   "source": [
    "print('Original : ',bank_marketing.education.unique())\n",
    "print(sum(bank_marketing.education=='unknown'))\n",
    "\n",
    "sum(bank_marketing.education=='unknown')/bank_marketing.education.count()"
   ]
  },
  {
   "cell_type": "code",
   "execution_count": 28,
   "metadata": {},
   "outputs": [
    {
     "name": "stdout",
     "output_type": "stream",
     "text": [
      "Changed :  [1 4 2 3 6 5 0]\n"
     ]
    }
   ],
   "source": [
    "bank_marketing.education=bank_marketing.education.replace(['illiterate','basic.4y','basic.6y', 'basic.9y', 'high.school', 'university.degree',\n",
    "                                             'professional.course', 'unknown'],[0,1,2,3,4,5,6,5])\n",
    "\n",
    "print('Changed : ',bank_marketing.education.unique())"
   ]
  },
  {
   "cell_type": "markdown",
   "metadata": {},
   "source": [
    "#### Default "
   ]
  },
  {
   "cell_type": "code",
   "execution_count": 29,
   "metadata": {},
   "outputs": [
    {
     "data": {
      "image/png": "[encoded data removed]",
      "text/plain": [
       "<Figure size 864x576 with 1 Axes>"
      ]
     },
     "metadata": {
      "needs_background": "light"
     },
     "output_type": "display_data"
    }
   ],
   "source": [
    "fig, ax = plt.subplots()\n",
    "fig.set_size_inches(12, 8)\n",
    "sns.countplot(x = 'default',hue='y', data = bank_marketing, order = ['no', 'unknown', 'yes'])\n",
    "ax.set_xlabel('Default', fontsize=15)\n",
    "ax.set_ylabel('Count', fontsize=15)\n",
    "ax.set_title('Default - Has Credit?', fontsize=15)\n",
    "ax.tick_params(labelsize=15)"
   ]
  },
  {
   "cell_type": "markdown",
   "metadata": {},
   "source": [
    "#### Housing "
   ]
  },
  {
   "cell_type": "code",
   "execution_count": 30,
   "metadata": {},
   "outputs": [
    {
     "data": {
      "image/png": "[encoded data removed]",
      "text/plain": [
       "<Figure size 864x576 with 1 Axes>"
      ]
     },
     "metadata": {
      "needs_background": "light"
     },
     "output_type": "display_data"
    }
   ],
   "source": [
    "fig, ax = plt.subplots()\n",
    "fig.set_size_inches(12, 8)\n",
    "sns.countplot(x = 'housing',hue='y', data = bank_marketing, order = ['no', 'unknown', 'yes'])\n",
    "ax.set_xlabel('Housing', fontsize=15)\n",
    "ax.set_ylabel('Count', fontsize=15)\n",
    "ax.set_title('Housing - Has Housing Loan?', fontsize=15)\n",
    "ax.tick_params(labelsize=15)"
   ]
  },
  {
   "cell_type": "code",
   "execution_count": 31,
   "metadata": {},
   "outputs": [
    {
     "name": "stdout",
     "output_type": "stream",
     "text": [
      "Original :  ['no' 'yes' 'unknown']\n",
      "Percentage of Unknown 0.024050140899815373\n"
     ]
    },
    {
     "data": {
      "text/html": [
       "<div>\n",
       "<style scoped>\n",
       "    .dataframe tbody tr th:only-of-type {\n",
       "        vertical-align: middle;\n",
       "    }\n",
       "\n",
       "    .dataframe tbody tr th {\n",
       "        vertical-align: top;\n",
       "    }\n",
       "\n",
       "    .dataframe thead th {\n",
       "        text-align: right;\n",
       "    }\n",
       "</style>\n",
       "<table border=\"1\" class=\"dataframe\">\n",
       "  <thead>\n",
       "    <tr style=\"text-align: right;\">\n",
       "      <th></th>\n",
       "      <th>y</th>\n",
       "    </tr>\n",
       "    <tr>\n",
       "      <th>housing</th>\n",
       "      <th></th>\n",
       "    </tr>\n",
       "  </thead>\n",
       "  <tbody>\n",
       "    <tr>\n",
       "      <th>no</th>\n",
       "      <td>18608</td>\n",
       "    </tr>\n",
       "    <tr>\n",
       "      <th>unknown</th>\n",
       "      <td>990</td>\n",
       "    </tr>\n",
       "    <tr>\n",
       "      <th>yes</th>\n",
       "      <td>21566</td>\n",
       "    </tr>\n",
       "  </tbody>\n",
       "</table>\n",
       "</div>"
      ],
      "text/plain": [
       "             y\n",
       "housing       \n",
       "no       18608\n",
       "unknown    990\n",
       "yes      21566"
      ]
     },
     "execution_count": 31,
     "metadata": {},
     "output_type": "execute_result"
    }
   ],
   "source": [
    "print('Original : ',bank_marketing.housing.unique())\n",
    "print('Percentage of Unknown',sum(bank_marketing.housing=='unknown')/bank_marketing.education.count())\n",
    "bank_marketing[['y','housing']].groupby('housing').count()"
   ]
  },
  {
   "cell_type": "code",
   "execution_count": 32,
   "metadata": {},
   "outputs": [
    {
     "data": {
      "text/html": [
       "<div>\n",
       "<style scoped>\n",
       "    .dataframe tbody tr th:only-of-type {\n",
       "        vertical-align: middle;\n",
       "    }\n",
       "\n",
       "    .dataframe tbody tr th {\n",
       "        vertical-align: top;\n",
       "    }\n",
       "\n",
       "    .dataframe thead th {\n",
       "        text-align: right;\n",
       "    }\n",
       "</style>\n",
       "<table border=\"1\" class=\"dataframe\">\n",
       "  <thead>\n",
       "    <tr style=\"text-align: right;\">\n",
       "      <th></th>\n",
       "      <th>y</th>\n",
       "    </tr>\n",
       "    <tr>\n",
       "      <th>housing</th>\n",
       "      <th></th>\n",
       "    </tr>\n",
       "  </thead>\n",
       "  <tbody>\n",
       "    <tr>\n",
       "      <th>no</th>\n",
       "      <td>18608</td>\n",
       "    </tr>\n",
       "    <tr>\n",
       "      <th>yes</th>\n",
       "      <td>22556</td>\n",
       "    </tr>\n",
       "  </tbody>\n",
       "</table>\n",
       "</div>"
      ],
      "text/plain": [
       "             y\n",
       "housing       \n",
       "no       18608\n",
       "yes      22556"
      ]
     },
     "execution_count": 32,
     "metadata": {},
     "output_type": "execute_result"
    }
   ],
   "source": [
    "bank_marketing.housing = bank_marketing.housing.replace(['unknown'],['yes'])\n",
    "\n",
    "bank_marketing[['y','housing']].groupby('housing').count()"
   ]
  },
  {
   "cell_type": "markdown",
   "metadata": {},
   "source": [
    "#### Loan"
   ]
  },
  {
   "cell_type": "code",
   "execution_count": 33,
   "metadata": {},
   "outputs": [
    {
     "data": {
      "image/png": "[encoded data removed]",
      "text/plain": [
       "<Figure size 864x576 with 1 Axes>"
      ]
     },
     "metadata": {
      "needs_background": "light"
     },
     "output_type": "display_data"
    }
   ],
   "source": [
    "fig, ax = plt.subplots()\n",
    "fig.set_size_inches(12, 8)\n",
    "sns.countplot(x = 'loan',hue='y', data = bank_marketing, order = ['no', 'unknown', 'yes'])\n",
    "ax.set_xlabel('Loan', fontsize=15)\n",
    "ax.set_ylabel('Count', fontsize=15)\n",
    "ax.set_title('Loan - Has Personal Loan?', fontsize=15)\n",
    "ax.tick_params(labelsize=15)"
   ]
  },
  {
   "cell_type": "code",
   "execution_count": 34,
   "metadata": {},
   "outputs": [
    {
     "name": "stdout",
     "output_type": "stream",
     "text": [
      "Original :  ['no' 'yes' 'unknown']\n",
      "Percentage of Unknown 0.024050140899815373\n"
     ]
    },
    {
     "data": {
      "text/html": [
       "<div>\n",
       "<style scoped>\n",
       "    .dataframe tbody tr th:only-of-type {\n",
       "        vertical-align: middle;\n",
       "    }\n",
       "\n",
       "    .dataframe tbody tr th {\n",
       "        vertical-align: top;\n",
       "    }\n",
       "\n",
       "    .dataframe thead th {\n",
       "        text-align: right;\n",
       "    }\n",
       "</style>\n",
       "<table border=\"1\" class=\"dataframe\">\n",
       "  <thead>\n",
       "    <tr style=\"text-align: right;\">\n",
       "      <th></th>\n",
       "      <th>y</th>\n",
       "    </tr>\n",
       "    <tr>\n",
       "      <th>loan</th>\n",
       "      <th></th>\n",
       "    </tr>\n",
       "  </thead>\n",
       "  <tbody>\n",
       "    <tr>\n",
       "      <th>no</th>\n",
       "      <td>33926</td>\n",
       "    </tr>\n",
       "    <tr>\n",
       "      <th>unknown</th>\n",
       "      <td>990</td>\n",
       "    </tr>\n",
       "    <tr>\n",
       "      <th>yes</th>\n",
       "      <td>6248</td>\n",
       "    </tr>\n",
       "  </tbody>\n",
       "</table>\n",
       "</div>"
      ],
      "text/plain": [
       "             y\n",
       "loan          \n",
       "no       33926\n",
       "unknown    990\n",
       "yes       6248"
      ]
     },
     "execution_count": 34,
     "metadata": {},
     "output_type": "execute_result"
    }
   ],
   "source": [
    "print('Original : ',bank_marketing.loan.unique())\n",
    "print('Percentage of Unknown',sum(bank_marketing.loan=='unknown')/bank_marketing.loan.count())\n",
    "bank_marketing[['y','loan']].groupby('loan').count()"
   ]
  },
  {
   "cell_type": "markdown",
   "metadata": {},
   "source": [
    "#### pdays "
   ]
  },
  {
   "cell_type": "code",
   "execution_count": 35,
   "metadata": {},
   "outputs": [
    {
     "name": "stdout",
     "output_type": "stream",
     "text": [
      "Number of 999 (Not contacted before) in pdays: 39649\n",
      "Percentage 0.9631959965017977\n"
     ]
    }
   ],
   "source": [
    "print('Number of 999 (Not contacted before) in pdays:',sum(bank_marketing.pdays==999))\n",
    "print('Percentage',sum(bank_marketing.pdays==999)/bank_marketing.pdays.count())"
   ]
  },
  {
   "cell_type": "code",
   "execution_count": 36,
   "metadata": {},
   "outputs": [
    {
     "data": {
      "image/png": "[encoded data removed]",
      "text/plain": [
       "<Figure size 864x576 with 1 Axes>"
      ]
     },
     "metadata": {
      "needs_background": "light"
     },
     "output_type": "display_data"
    }
   ],
   "source": [
    "fig, ax = plt.subplots()\n",
    "fig.set_size_inches(12, 8)\n",
    "sns.countplot(x = 'pdays', hue='y', data = bank_marketing[bank_marketing.pdays != 999])\n",
    "ax.set_xlabel('Days passed after previous campaign', fontsize=15)\n",
    "ax.set_ylabel('Count', fontsize=15)\n",
    "ax.set_title('Effect of days passed', fontsize=15)\n",
    "ax.tick_params(labelsize=15)"
   ]
  },
  {
   "cell_type": "code",
   "execution_count": 37,
   "metadata": {},
   "outputs": [
    {
     "name": "stdout",
     "output_type": "stream",
     "text": [
      "<class 'pandas.core.frame.DataFrame'>\n",
      "Int64Index: 41164 entries, 0 to 41187\n",
      "Data columns (total 21 columns):\n",
      "age               41164 non-null int64\n",
      "job               41164 non-null object\n",
      "marital           41164 non-null object\n",
      "education         41164 non-null int64\n",
      "default           41164 non-null object\n",
      "housing           41164 non-null object\n",
      "loan              41164 non-null object\n",
      "contact           41164 non-null object\n",
      "month             41164 non-null object\n",
      "day_of_week       41164 non-null object\n",
      "duration          41164 non-null int64\n",
      "campaign          41164 non-null int64\n",
      "pdays             41164 non-null int64\n",
      "previous          41164 non-null int64\n",
      "poutcome          41164 non-null object\n",
      "emp_var_rate      41164 non-null float64\n",
      "cons_price_idx    41164 non-null float64\n",
      "cons_conf_idx     41164 non-null float64\n",
      "euribor3m         41164 non-null float64\n",
      "nr_employed       41164 non-null float64\n",
      "y                 41164 non-null int64\n",
      "dtypes: float64(5), int64(7), object(9)\n",
      "memory usage: 8.2+ MB\n"
     ]
    }
   ],
   "source": [
    "bank_marketing.info()"
   ]
  },
  {
   "cell_type": "markdown",
   "metadata": {},
   "source": [
    "#### One Hot Encoding or Mapping the Categorical Variables "
   ]
  },
  {
   "cell_type": "code",
   "execution_count": 38,
   "metadata": {},
   "outputs": [],
   "source": [
    "bank_marketing =bank_marketing.drop(['euribor3m','nr_employed','duration'],axis=1)"
   ]
  },
  {
   "cell_type": "code",
   "execution_count": 39,
   "metadata": {},
   "outputs": [],
   "source": [
    "bank_marketing = pd.get_dummies(bank_marketing,columns=['default','job','marital','housing','loan','contact','month','day_of_week',\n",
    "                                                'poutcome'],\n",
    "                               prefix=['def','job','marry','house','lon','ph','month','wkday','pout'])"
   ]
  },
  {
   "cell_type": "code",
   "execution_count": 40,
   "metadata": {},
   "outputs": [
    {
     "data": {
      "text/plain": [
       "(41164, 53)"
      ]
     },
     "execution_count": 40,
     "metadata": {},
     "output_type": "execute_result"
    }
   ],
   "source": [
    "bank_marketing.shape"
   ]
  },
  {
   "cell_type": "code",
   "execution_count": 41,
   "metadata": {},
   "outputs": [
    {
     "data": {
      "text/html": [
       "<div>\n",
       "<style scoped>\n",
       "    .dataframe tbody tr th:only-of-type {\n",
       "        vertical-align: middle;\n",
       "    }\n",
       "\n",
       "    .dataframe tbody tr th {\n",
       "        vertical-align: top;\n",
       "    }\n",
       "\n",
       "    .dataframe thead th {\n",
       "        text-align: right;\n",
       "    }\n",
       "</style>\n",
       "<table border=\"1\" class=\"dataframe\">\n",
       "  <thead>\n",
       "    <tr style=\"text-align: right;\">\n",
       "      <th></th>\n",
       "      <th>age</th>\n",
       "      <th>education</th>\n",
       "      <th>campaign</th>\n",
       "      <th>pdays</th>\n",
       "      <th>previous</th>\n",
       "      <th>emp_var_rate</th>\n",
       "      <th>cons_price_idx</th>\n",
       "      <th>cons_conf_idx</th>\n",
       "      <th>y</th>\n",
       "      <th>def_no</th>\n",
       "      <th>...</th>\n",
       "      <th>month_oct</th>\n",
       "      <th>month_sep</th>\n",
       "      <th>wkday_fri</th>\n",
       "      <th>wkday_mon</th>\n",
       "      <th>wkday_thu</th>\n",
       "      <th>wkday_tue</th>\n",
       "      <th>wkday_wed</th>\n",
       "      <th>pout_failure</th>\n",
       "      <th>pout_nonexistent</th>\n",
       "      <th>pout_success</th>\n",
       "    </tr>\n",
       "  </thead>\n",
       "  <tbody>\n",
       "    <tr>\n",
       "      <th>0</th>\n",
       "      <td>56</td>\n",
       "      <td>1</td>\n",
       "      <td>1</td>\n",
       "      <td>999</td>\n",
       "      <td>0</td>\n",
       "      <td>1.1</td>\n",
       "      <td>93.994</td>\n",
       "      <td>-36.4</td>\n",
       "      <td>0</td>\n",
       "      <td>1</td>\n",
       "      <td>...</td>\n",
       "      <td>0</td>\n",
       "      <td>0</td>\n",
       "      <td>0</td>\n",
       "      <td>1</td>\n",
       "      <td>0</td>\n",
       "      <td>0</td>\n",
       "      <td>0</td>\n",
       "      <td>0</td>\n",
       "      <td>1</td>\n",
       "      <td>0</td>\n",
       "    </tr>\n",
       "    <tr>\n",
       "      <th>1</th>\n",
       "      <td>57</td>\n",
       "      <td>4</td>\n",
       "      <td>1</td>\n",
       "      <td>999</td>\n",
       "      <td>0</td>\n",
       "      <td>1.1</td>\n",
       "      <td>93.994</td>\n",
       "      <td>-36.4</td>\n",
       "      <td>0</td>\n",
       "      <td>0</td>\n",
       "      <td>...</td>\n",
       "      <td>0</td>\n",
       "      <td>0</td>\n",
       "      <td>0</td>\n",
       "      <td>1</td>\n",
       "      <td>0</td>\n",
       "      <td>0</td>\n",
       "      <td>0</td>\n",
       "      <td>0</td>\n",
       "      <td>1</td>\n",
       "      <td>0</td>\n",
       "    </tr>\n",
       "    <tr>\n",
       "      <th>2</th>\n",
       "      <td>37</td>\n",
       "      <td>4</td>\n",
       "      <td>1</td>\n",
       "      <td>999</td>\n",
       "      <td>0</td>\n",
       "      <td>1.1</td>\n",
       "      <td>93.994</td>\n",
       "      <td>-36.4</td>\n",
       "      <td>0</td>\n",
       "      <td>1</td>\n",
       "      <td>...</td>\n",
       "      <td>0</td>\n",
       "      <td>0</td>\n",
       "      <td>0</td>\n",
       "      <td>1</td>\n",
       "      <td>0</td>\n",
       "      <td>0</td>\n",
       "      <td>0</td>\n",
       "      <td>0</td>\n",
       "      <td>1</td>\n",
       "      <td>0</td>\n",
       "    </tr>\n",
       "    <tr>\n",
       "      <th>3</th>\n",
       "      <td>40</td>\n",
       "      <td>2</td>\n",
       "      <td>1</td>\n",
       "      <td>999</td>\n",
       "      <td>0</td>\n",
       "      <td>1.1</td>\n",
       "      <td>93.994</td>\n",
       "      <td>-36.4</td>\n",
       "      <td>0</td>\n",
       "      <td>1</td>\n",
       "      <td>...</td>\n",
       "      <td>0</td>\n",
       "      <td>0</td>\n",
       "      <td>0</td>\n",
       "      <td>1</td>\n",
       "      <td>0</td>\n",
       "      <td>0</td>\n",
       "      <td>0</td>\n",
       "      <td>0</td>\n",
       "      <td>1</td>\n",
       "      <td>0</td>\n",
       "    </tr>\n",
       "    <tr>\n",
       "      <th>4</th>\n",
       "      <td>56</td>\n",
       "      <td>4</td>\n",
       "      <td>1</td>\n",
       "      <td>999</td>\n",
       "      <td>0</td>\n",
       "      <td>1.1</td>\n",
       "      <td>93.994</td>\n",
       "      <td>-36.4</td>\n",
       "      <td>0</td>\n",
       "      <td>1</td>\n",
       "      <td>...</td>\n",
       "      <td>0</td>\n",
       "      <td>0</td>\n",
       "      <td>0</td>\n",
       "      <td>1</td>\n",
       "      <td>0</td>\n",
       "      <td>0</td>\n",
       "      <td>0</td>\n",
       "      <td>0</td>\n",
       "      <td>1</td>\n",
       "      <td>0</td>\n",
       "    </tr>\n",
       "  </tbody>\n",
       "</table>\n",
       "<p>5 rows × 53 columns</p>\n",
       "</div>"
      ],
      "text/plain": [
       "   age  education  campaign  pdays  previous  emp_var_rate  cons_price_idx  \\\n",
       "0   56          1         1    999         0           1.1          93.994   \n",
       "1   57          4         1    999         0           1.1          93.994   \n",
       "2   37          4         1    999         0           1.1          93.994   \n",
       "3   40          2         1    999         0           1.1          93.994   \n",
       "4   56          4         1    999         0           1.1          93.994   \n",
       "\n",
       "   cons_conf_idx  y  def_no  ...  month_oct  month_sep  wkday_fri  wkday_mon  \\\n",
       "0          -36.4  0       1  ...          0          0          0          1   \n",
       "1          -36.4  0       0  ...          0          0          0          1   \n",
       "2          -36.4  0       1  ...          0          0          0          1   \n",
       "3          -36.4  0       1  ...          0          0          0          1   \n",
       "4          -36.4  0       1  ...          0          0          0          1   \n",
       "\n",
       "   wkday_thu  wkday_tue  wkday_wed  pout_failure  pout_nonexistent  \\\n",
       "0          0          0          0             0                 1   \n",
       "1          0          0          0             0                 1   \n",
       "2          0          0          0             0                 1   \n",
       "3          0          0          0             0                 1   \n",
       "4          0          0          0             0                 1   \n",
       "\n",
       "   pout_success  \n",
       "0             0  \n",
       "1             0  \n",
       "2             0  \n",
       "3             0  \n",
       "4             0  \n",
       "\n",
       "[5 rows x 53 columns]"
      ]
     },
     "execution_count": 41,
     "metadata": {},
     "output_type": "execute_result"
    }
   ],
   "source": [
    "bank_marketing.head()"
   ]
  },
  {
   "cell_type": "code",
   "execution_count": 42,
   "metadata": {},
   "outputs": [
    {
     "data": {
      "text/plain": [
       "age                    int64\n",
       "education              int64\n",
       "campaign               int64\n",
       "pdays                  int64\n",
       "previous               int64\n",
       "emp_var_rate         float64\n",
       "cons_price_idx       float64\n",
       "cons_conf_idx        float64\n",
       "y                      int64\n",
       "def_no                 uint8\n",
       "def_unknown            uint8\n",
       "def_yes                uint8\n",
       "job_admin.             uint8\n",
       "job_blue-collar        uint8\n",
       "job_entrepreneur       uint8\n",
       "job_housemaid          uint8\n",
       "job_management         uint8\n",
       "job_retired            uint8\n",
       "job_self-employed      uint8\n",
       "job_services           uint8\n",
       "job_student            uint8\n",
       "job_technician         uint8\n",
       "job_unemployed         uint8\n",
       "job_unknown            uint8\n",
       "marry_divorced         uint8\n",
       "marry_married          uint8\n",
       "marry_single           uint8\n",
       "marry_unknown          uint8\n",
       "house_no               uint8\n",
       "house_yes              uint8\n",
       "lon_no                 uint8\n",
       "lon_unknown            uint8\n",
       "lon_yes                uint8\n",
       "ph_cellular            uint8\n",
       "ph_telephone           uint8\n",
       "month_apr              uint8\n",
       "month_aug              uint8\n",
       "month_dec              uint8\n",
       "month_jul              uint8\n",
       "month_jun              uint8\n",
       "month_mar              uint8\n",
       "month_may              uint8\n",
       "month_nov              uint8\n",
       "month_oct              uint8\n",
       "month_sep              uint8\n",
       "wkday_fri              uint8\n",
       "wkday_mon              uint8\n",
       "wkday_thu              uint8\n",
       "wkday_tue              uint8\n",
       "wkday_wed              uint8\n",
       "pout_failure           uint8\n",
       "pout_nonexistent       uint8\n",
       "pout_success           uint8\n",
       "dtype: object"
      ]
     },
     "execution_count": 42,
     "metadata": {},
     "output_type": "execute_result"
    }
   ],
   "source": [
    "bank_marketing.dtypes"
   ]
  },
  {
   "cell_type": "markdown",
   "metadata": {},
   "source": [
    "## Preprocessing For Model Fitting:"
   ]
  },
  {
   "cell_type": "markdown",
   "metadata": {},
   "source": [
    "### Sampling: "
   ]
  },
  {
   "cell_type": "code",
   "execution_count": 43,
   "metadata": {},
   "outputs": [
    {
     "data": {
      "text/plain": [
       "(12349, 53)"
      ]
     },
     "execution_count": 43,
     "metadata": {},
     "output_type": "execute_result"
    }
   ],
   "source": [
    "bank_marketing = pd.DataFrame.sample(bank_marketing,frac=0.3,random_state=0)\n",
    "bank_marketing.shape"
   ]
  },
  {
   "cell_type": "markdown",
   "metadata": {},
   "source": [
    "### Importing required packages for modelling:"
   ]
  },
  {
   "cell_type": "code",
   "execution_count": 44,
   "metadata": {},
   "outputs": [],
   "source": [
    "from sklearn.model_selection import train_test_split\n",
    "from sklearn.preprocessing import MinMaxScaler\n",
    "from sklearn.dummy import DummyClassifier\n",
    "from sklearn.linear_model import LogisticRegression\n",
    "from sklearn.neighbors import KNeighborsClassifier\n",
    "from sklearn.tree import DecisionTreeClassifier\n",
    "from sklearn.svm import SVC, LinearSVC\n",
    "from sklearn.ensemble import RandomForestClassifier\n",
    "from sklearn.model_selection import GridSearchCV"
   ]
  },
  {
   "cell_type": "code",
   "execution_count": 45,
   "metadata": {},
   "outputs": [],
   "source": [
    "import warnings\n",
    "warnings.filterwarnings('ignore') "
   ]
  },
  {
   "cell_type": "code",
   "execution_count": 46,
   "metadata": {},
   "outputs": [],
   "source": [
    "import warnings\n",
    "from sklearn.exceptions import DataConversionWarning\n",
    "warnings.filterwarnings(action='ignore', category=DataConversionWarning)"
   ]
  },
  {
   "cell_type": "markdown",
   "metadata": {},
   "source": [
    "### Features and Target: "
   ]
  },
  {
   "cell_type": "code",
   "execution_count": 47,
   "metadata": {},
   "outputs": [],
   "source": [
    "y = bank_marketing['y']\n",
    "X = bank_marketing.drop(['y'], axis = 1)"
   ]
  },
  {
   "cell_type": "markdown",
   "metadata": {},
   "source": [
    "### Scale and Split"
   ]
  },
  {
   "cell_type": "code",
   "execution_count": 48,
   "metadata": {},
   "outputs": [],
   "source": [
    "X_train_org, X_test_org, y_train, y_test = train_test_split(X, y, random_state = 0)"
   ]
  },
  {
   "cell_type": "code",
   "execution_count": 49,
   "metadata": {},
   "outputs": [],
   "source": [
    "scaler = MinMaxScaler()\n",
    "X_train = scaler.fit_transform(X_train_org)\n",
    "X_test = scaler.transform(X_test_org)"
   ]
  },
  {
   "cell_type": "code",
   "execution_count": 50,
   "metadata": {},
   "outputs": [
    {
     "data": {
      "text/plain": [
       "25"
      ]
     },
     "execution_count": 50,
     "metadata": {},
     "output_type": "execute_result"
    }
   ],
   "source": [
    "from sklearn.decomposition import PCA\n",
    "pca = PCA(n_components = 0.95)\n",
    "X_train_reduced_Bf = pca.fit_transform(X_train)\n",
    "pca.n_components_"
   ]
  },
  {
   "cell_type": "code",
   "execution_count": 51,
   "metadata": {},
   "outputs": [
    {
     "name": "stdout",
     "output_type": "stream",
     "text": [
      "(9261, 25)\n",
      "(3088, 25)\n"
     ]
    }
   ],
   "source": [
    "pca = PCA(n_components = pca.n_components_)\n",
    "X_train_reduced_Bf = pca.fit_transform(X_train)\n",
    "X_test_reduced_Bf = pca.transform(X_test)\n",
    "print(X_train_reduced_Bf.shape)\n",
    "print(X_test_reduced_Bf.shape)"
   ]
  },
  {
   "cell_type": "markdown",
   "metadata": {},
   "source": [
    "## Classification Models "
   ]
  },
  {
   "cell_type": "markdown",
   "metadata": {},
   "source": [
    "### Dummy Classifier "
   ]
  },
  {
   "cell_type": "code",
   "execution_count": 52,
   "metadata": {},
   "outputs": [
    {
     "name": "stdout",
     "output_type": "stream",
     "text": [
      "0.8845697008962315\n"
     ]
    },
    {
     "data": {
      "text/plain": [
       "array([[   0,  347],\n",
       "       [   0, 2741]], dtype=int64)"
      ]
     },
     "execution_count": 52,
     "metadata": {},
     "output_type": "execute_result"
    }
   ],
   "source": [
    "from sklearn.dummy import DummyClassifier\n",
    "dc = DummyClassifier()\n",
    "dc.strategy = 'most_frequent'\n",
    "dc.fit(X_train,y_train)\n",
    "print(dc.score(X_train,y_train))\n",
    "\n",
    "y_pr = pd.DataFrame(y_test)\n",
    "y_pr = y_pr.replace([1],[0])\n",
    "\n",
    "skm.confusion_matrix(y_test, dc.predict(X_test),labels=[1,0])"
   ]
  },
  {
   "cell_type": "code",
   "execution_count": 53,
   "metadata": {},
   "outputs": [],
   "source": [
    "models = {\n",
    "        \"KNN-Classifier\": KNeighborsClassifier(),\n",
    "         \"Logistic Reg\": LogisticRegression(random_state=0, class_weight='balanced'),\n",
    "        \"LinearSVC\": LinearSVC(random_state=0,class_weight='balanced'),\n",
    "        \"SVM Kernelized\": SVC(random_state=0,probability = True,class_weight='balanced'),\n",
    "        \"Decision Tree\": DecisionTreeClassifier(random_state=0,class_weight='balanced'),\n",
    "         \"Random Forest\": RandomForestClassifier(random_state=0,class_weight='balanced'),\n",
    "        }"
   ]
  },
  {
   "cell_type": "code",
   "execution_count": 54,
   "metadata": {},
   "outputs": [],
   "source": [
    "params = {\n",
    "        \"KNN-Classifier\": {'n_neighbors': [3, 5, 8, 10, 15, 20]},\n",
    "    \n",
    "        \"Logistic Reg\": {'C': [0.01, 0.1, 1, 10, 25],\n",
    "                  'solver': ['lbfgs','liblinear', 'saga']},\n",
    "    \n",
    "        \"LinearSVC\": {'C': [0.01, 0.1, 1, 10]},\n",
    "    \n",
    "        \"SVM Kernelized\": {'C': [1, 10, 15], 'gamma': [0.01, 0.1, 1]},\n",
    "    \n",
    "        \"Decision Tree\": {'max_depth': [1, 2, 4, 10, 25], \n",
    "            'criterion': ['gini', 'entropy'], \n",
    "            'max_features': ['auto', 'log2']},\n",
    "    \n",
    "        \"Random Forest\": {'max_depth': [1, 2, 4, 10, 25], \n",
    "            'criterion': ['gini', 'entropy'], \n",
    "            'max_features': ['auto', 'log2']},\n",
    "        }"
   ]
  },
  {
   "cell_type": "code",
   "execution_count": null,
   "metadata": {},
   "outputs": [],
   "source": []
  },
  {
   "cell_type": "code",
   "execution_count": 55,
   "metadata": {},
   "outputs": [],
   "source": [
    "def run_models (X_train, X_test, models, params, scoring) : \n",
    "    Classification_Result=pd.DataFrame(columns=['Model','Best_Parameter','Training_score','Testing_score','F1_score','Recall','Precision','AUC Value'],\n",
    "                                   index=['KNN-Classifier','Logistic Reg','LinearSVC','SVM Kernelized','Decision Tree','Random Forest'])\n",
    "    plt.figure(figsize=(10, 8))\n",
    "    \n",
    "    for model_name, model in models.items():\n",
    "            grid_search = GridSearchCV(model, params[model_name], cv=3,return_train_score=True, n_jobs=-1, scoring = scoring)\n",
    "            grid_search.fit(X_train, y_train)\n",
    "\n",
    "            print(\"Model:\", model_name)\n",
    "            print(\"Parameter(Optimum): {}\".format(grid_search.best_params_))\n",
    "            print(\"Cross-validation score: {:.2f}\".format(grid_search.best_score_))\n",
    "\n",
    "            best_model = grid_search.best_estimator_\n",
    "            best_model.fit(X_train, y_train)\n",
    "            y_pred = best_model.predict(X_test)\n",
    "            \n",
    "           # plot_param (grid_search)\n",
    "            \n",
    "            print(skm.confusion_matrix(y_test, y_pred,labels=[1,0]))\n",
    "            \n",
    "            \n",
    "            Classification_Result.loc[model_name] =[model_name,grid_search.best_params_,best_model.score(X_train, y_train),\n",
    "                                                    best_model.score(X_test, y_test),\n",
    "                                                    skm.f1_score(y_test,y_pred),\n",
    "                                                    skm.recall_score(y_test,y_pred),\n",
    "                                                    skm.precision_score(y_test,y_pred),\n",
    "                                                    skm.roc_auc_score(y_test,y_pred)\n",
    "                                                   ]\n",
    "            if model_name != 'LinearSVC':\n",
    "                y_train_prob = best_model.predict_proba(X_train)\n",
    "                \n",
    "                y_train_prob_new = best_model.predict_proba(X_test)\n",
    "                y_pred_new = np.where(y_train_prob_new[:,1] > 0.25, 1, 0)\n",
    "                print(skm.confusion_matrix(y_test, y_pred_new,labels=[1,0]))\n",
    "                print(skm.classification_report(y_test, y_pred_new))\n",
    "                \n",
    "                fpr, tpr, threshold = roc_curve(y_train, y_train_prob[:,1])\n",
    "                plt.plot(fpr, tpr, label = model_name)\n",
    "                plt.xlabel('False Positive Rate')\n",
    "                plt.ylabel('True Positive Rate')\n",
    "                plt.legend()\n",
    "                \n",
    "             \n",
    "            else:\n",
    "                y_train_prob = best_model.decision_function(X_train)\n",
    "                \n",
    "                y_train_prob_new = best_model.decision_function(X_test)\n",
    "                y_pred_new = np.where(y_train_prob_new > 0.7, 1, 0)\n",
    "                print(skm.confusion_matrix(y_test, y_pred_new,labels=[1,0]))\n",
    "                print(skm.classification_report(y_test, y_pred_new))\n",
    "                \n",
    "                fpr, tpr, threshold = roc_curve(y_train, y_train_prob)\n",
    "                plt.plot(fpr, tpr, label = model_name)\n",
    "                plt.xlabel('False Positive Rate')\n",
    "                plt.ylabel('True Positive Rate')\n",
    "                plt.legend()\n",
    "                    \n",
    "           \n",
    "    return Classification_Result.sort_values(by='F1_score',ascending = False)"
   ]
  },
  {
   "cell_type": "code",
   "execution_count": 56,
   "metadata": {},
   "outputs": [
    {
     "name": "stdout",
     "output_type": "stream",
     "text": [
      "Model: KNN-Classifier\n",
      "Parameter(Optimum): {'n_neighbors': 3}\n",
      "Cross-validation score: 0.30\n",
      "[[  77  270]\n",
      " [ 111 2630]]\n",
      "[[ 177  170]\n",
      " [ 582 2159]]\n",
      "              precision    recall  f1-score   support\n",
      "\n",
      "           0       0.93      0.79      0.85      2741\n",
      "           1       0.23      0.51      0.32       347\n",
      "\n",
      "    accuracy                           0.76      3088\n",
      "   macro avg       0.58      0.65      0.59      3088\n",
      "weighted avg       0.85      0.76      0.79      3088\n",
      "\n",
      "Model: Logistic Reg\n",
      "Parameter(Optimum): {'C': 1, 'solver': 'lbfgs'}\n",
      "Cross-validation score: 0.45\n",
      "[[ 220  127]\n",
      " [ 449 2292]]\n",
      "[[ 313   34]\n",
      " [1917  824]]\n",
      "              precision    recall  f1-score   support\n",
      "\n",
      "           0       0.96      0.30      0.46      2741\n",
      "           1       0.14      0.90      0.24       347\n",
      "\n",
      "    accuracy                           0.37      3088\n",
      "   macro avg       0.55      0.60      0.35      3088\n",
      "weighted avg       0.87      0.37      0.43      3088\n",
      "\n",
      "Model: LinearSVC\n",
      "Parameter(Optimum): {'C': 10}\n",
      "Cross-validation score: 0.49\n",
      "[[ 204  143]\n",
      " [ 347 2394]]\n",
      "[[  93  254]\n",
      " [  63 2678]]\n",
      "              precision    recall  f1-score   support\n",
      "\n",
      "           0       0.91      0.98      0.94      2741\n",
      "           1       0.60      0.27      0.37       347\n",
      "\n",
      "    accuracy                           0.90      3088\n",
      "   macro avg       0.75      0.62      0.66      3088\n",
      "weighted avg       0.88      0.90      0.88      3088\n",
      "\n",
      "Model: SVM Kernelized\n",
      "Parameter(Optimum): {'C': 1, 'gamma': 0.1}\n",
      "Cross-validation score: 0.47\n",
      "[[ 211  136]\n",
      " [ 424 2317]]\n",
      "[[ 196  151]\n",
      " [ 309 2432]]\n",
      "              precision    recall  f1-score   support\n",
      "\n",
      "           0       0.94      0.89      0.91      2741\n",
      "           1       0.39      0.56      0.46       347\n",
      "\n",
      "    accuracy                           0.85      3088\n",
      "   macro avg       0.66      0.73      0.69      3088\n",
      "weighted avg       0.88      0.85      0.86      3088\n",
      "\n",
      "Model: Decision Tree\n",
      "Parameter(Optimum): {'criterion': 'entropy', 'max_depth': 10, 'max_features': 'auto'}\n",
      "Cross-validation score: 0.40\n",
      "[[ 195  152]\n",
      " [ 471 2270]]\n",
      "[[ 282   65]\n",
      " [1762  979]]\n",
      "              precision    recall  f1-score   support\n",
      "\n",
      "           0       0.94      0.36      0.52      2741\n",
      "           1       0.14      0.81      0.24       347\n",
      "\n",
      "    accuracy                           0.41      3088\n",
      "   macro avg       0.54      0.58      0.38      3088\n",
      "weighted avg       0.85      0.41      0.49      3088\n",
      "\n",
      "Model: Random Forest\n",
      "Parameter(Optimum): {'criterion': 'entropy', 'max_depth': 10, 'max_features': 'auto'}\n",
      "Cross-validation score: 0.46\n",
      "[[ 202  145]\n",
      " [ 359 2382]]\n",
      "[[ 316   31]\n",
      " [1840  901]]\n",
      "              precision    recall  f1-score   support\n",
      "\n",
      "           0       0.97      0.33      0.49      2741\n",
      "           1       0.15      0.91      0.25       347\n",
      "\n",
      "    accuracy                           0.39      3088\n",
      "   macro avg       0.56      0.62      0.37      3088\n",
      "weighted avg       0.87      0.39      0.46      3088\n",
      "\n"
     ]
    },
    {
     "data": {
      "text/html": [
       "<div>\n",
       "<style scoped>\n",
       "    .dataframe tbody tr th:only-of-type {\n",
       "        vertical-align: middle;\n",
       "    }\n",
       "\n",
       "    .dataframe tbody tr th {\n",
       "        vertical-align: top;\n",
       "    }\n",
       "\n",
       "    .dataframe thead th {\n",
       "        text-align: right;\n",
       "    }\n",
       "</style>\n",
       "<table border=\"1\" class=\"dataframe\">\n",
       "  <thead>\n",
       "    <tr style=\"text-align: right;\">\n",
       "      <th></th>\n",
       "      <th>Model</th>\n",
       "      <th>Best_Parameter</th>\n",
       "      <th>Training_score</th>\n",
       "      <th>Testing_score</th>\n",
       "      <th>F1_score</th>\n",
       "      <th>Recall</th>\n",
       "      <th>Precision</th>\n",
       "      <th>AUC Value</th>\n",
       "    </tr>\n",
       "  </thead>\n",
       "  <tbody>\n",
       "    <tr>\n",
       "      <th>LinearSVC</th>\n",
       "      <td>LinearSVC</td>\n",
       "      <td>{'C': 10}</td>\n",
       "      <td>0.8525</td>\n",
       "      <td>0.841321</td>\n",
       "      <td>0.454343</td>\n",
       "      <td>0.587896</td>\n",
       "      <td>0.370236</td>\n",
       "      <td>0.73065</td>\n",
       "    </tr>\n",
       "    <tr>\n",
       "      <th>Random Forest</th>\n",
       "      <td>Random Forest</td>\n",
       "      <td>{'criterion': 'entropy', 'max_depth': 10, 'max...</td>\n",
       "      <td>0.86265</td>\n",
       "      <td>0.836788</td>\n",
       "      <td>0.444934</td>\n",
       "      <td>0.582133</td>\n",
       "      <td>0.360071</td>\n",
       "      <td>0.725579</td>\n",
       "    </tr>\n",
       "    <tr>\n",
       "      <th>Logistic Reg</th>\n",
       "      <td>Logistic Reg</td>\n",
       "      <td>{'C': 1, 'solver': 'lbfgs'}</td>\n",
       "      <td>0.818054</td>\n",
       "      <td>0.813472</td>\n",
       "      <td>0.433071</td>\n",
       "      <td>0.634006</td>\n",
       "      <td>0.328849</td>\n",
       "      <td>0.735098</td>\n",
       "    </tr>\n",
       "    <tr>\n",
       "      <th>SVM Kernelized</th>\n",
       "      <td>SVM Kernelized</td>\n",
       "      <td>{'C': 1, 'gamma': 0.1}</td>\n",
       "      <td>0.841702</td>\n",
       "      <td>0.818653</td>\n",
       "      <td>0.429735</td>\n",
       "      <td>0.608069</td>\n",
       "      <td>0.332283</td>\n",
       "      <td>0.726691</td>\n",
       "    </tr>\n",
       "    <tr>\n",
       "      <th>Decision Tree</th>\n",
       "      <td>Decision Tree</td>\n",
       "      <td>{'criterion': 'entropy', 'max_depth': 10, 'max...</td>\n",
       "      <td>0.831984</td>\n",
       "      <td>0.798251</td>\n",
       "      <td>0.384995</td>\n",
       "      <td>0.56196</td>\n",
       "      <td>0.292793</td>\n",
       "      <td>0.695062</td>\n",
       "    </tr>\n",
       "    <tr>\n",
       "      <th>KNN-Classifier</th>\n",
       "      <td>KNN-Classifier</td>\n",
       "      <td>{'n_neighbors': 3}</td>\n",
       "      <td>0.920203</td>\n",
       "      <td>0.876619</td>\n",
       "      <td>0.28785</td>\n",
       "      <td>0.221902</td>\n",
       "      <td>0.409574</td>\n",
       "      <td>0.590703</td>\n",
       "    </tr>\n",
       "  </tbody>\n",
       "</table>\n",
       "</div>"
      ],
      "text/plain": [
       "                         Model  \\\n",
       "LinearSVC            LinearSVC   \n",
       "Random Forest    Random Forest   \n",
       "Logistic Reg      Logistic Reg   \n",
       "SVM Kernelized  SVM Kernelized   \n",
       "Decision Tree    Decision Tree   \n",
       "KNN-Classifier  KNN-Classifier   \n",
       "\n",
       "                                                   Best_Parameter  \\\n",
       "LinearSVC                                               {'C': 10}   \n",
       "Random Forest   {'criterion': 'entropy', 'max_depth': 10, 'max...   \n",
       "Logistic Reg                          {'C': 1, 'solver': 'lbfgs'}   \n",
       "SVM Kernelized                             {'C': 1, 'gamma': 0.1}   \n",
       "Decision Tree   {'criterion': 'entropy', 'max_depth': 10, 'max...   \n",
       "KNN-Classifier                                 {'n_neighbors': 3}   \n",
       "\n",
       "               Training_score Testing_score  F1_score    Recall Precision  \\\n",
       "LinearSVC              0.8525      0.841321  0.454343  0.587896  0.370236   \n",
       "Random Forest         0.86265      0.836788  0.444934  0.582133  0.360071   \n",
       "Logistic Reg         0.818054      0.813472  0.433071  0.634006  0.328849   \n",
       "SVM Kernelized       0.841702      0.818653  0.429735  0.608069  0.332283   \n",
       "Decision Tree        0.831984      0.798251  0.384995   0.56196  0.292793   \n",
       "KNN-Classifier       0.920203      0.876619   0.28785  0.221902  0.409574   \n",
       "\n",
       "               AUC Value  \n",
       "LinearSVC        0.73065  \n",
       "Random Forest   0.725579  \n",
       "Logistic Reg    0.735098  \n",
       "SVM Kernelized  0.726691  \n",
       "Decision Tree   0.695062  \n",
       "KNN-Classifier  0.590703  "
      ]
     },
     "execution_count": 56,
     "metadata": {},
     "output_type": "execute_result"
    },
    {
     "data": {
      "image/png": "[encoded data removed]",
      "text/plain": [
       "<Figure size 720x576 with 1 Axes>"
      ]
     },
     "metadata": {
      "needs_background": "light"
     },
     "output_type": "display_data"
    }
   ],
   "source": [
    "Classification_Result = run_models(X_train,X_test, models, params,'f1')\n",
    "Classification_Result"
   ]
  },
  {
   "cell_type": "code",
   "execution_count": 57,
   "metadata": {},
   "outputs": [],
   "source": [
    "def plot_param (grid_search):   \n",
    "    \n",
    "    result3 = pd.DataFrame(grid_search.cv_results_)\n",
    "    result3[['param_max_depth','param_criterion','param_max_features','mean_train_score','mean_test_score']]\n",
    "    result3 = result3[result3.param_criterion=='entropy']\n",
    "    result3 = result3[result3.param_max_features=='log2']\n",
    "    result3.index = range(0,5)\n",
    "    b = 4\n",
    "\n",
    "    plt.plot(range(result3.shape[0]), result3['mean_train_score'], label = 'mean train score')\n",
    "    plt.plot(range(result3.shape[0]), result3['mean_test_score'], label = 'mean test score')\n",
    "    plt.xticks(range(result3.shape[0]), result3['param_max_depth'], rotation = 90)\n",
    "    plt.plot([b], result3['mean_train_score'][b], 'o', markersize = 10, fillstyle = \"none\")\n",
    "    plt.plot([b], result3['mean_test_score'][b], 'o', markersize = 10, fillstyle = \"none\")\n",
    "    plt.title('Logistic regression')\n",
    "    plt.grid()\n",
    "    plt.legend()\n",
    "\n",
    "    print(result3)\n",
    "    print('best index ', grid_search.best_index_)\n",
    "    print(range(result3.shape[0]))"
   ]
  },
  {
   "cell_type": "code",
   "execution_count": 58,
   "metadata": {},
   "outputs": [
    {
     "data": {
      "image/png": "[encoded data removed]",
      "text/plain": [
       "<Figure size 1152x432 with 1 Axes>"
      ]
     },
     "metadata": {
      "needs_background": "light"
     },
     "output_type": "display_data"
    }
   ],
   "source": [
    "plt.figure(figsize=(16, 6))\n",
    "df = pd.melt(Classification_Result, id_vars='Model', value_vars=['F1_score','Recall','Precision','AUC Value'], value_name=\"Score\")\n",
    "ax = sns.barplot(x='Model', y='Score', hue = 'variable', data=df)"
   ]
  },
  {
   "cell_type": "markdown",
   "metadata": {},
   "source": [
    "## PCA"
   ]
  },
  {
   "cell_type": "code",
   "execution_count": 59,
   "metadata": {},
   "outputs": [
    {
     "name": "stdout",
     "output_type": "stream",
     "text": [
      "Model: KNN-Classifier\n",
      "Parameter(Optimum): {'n_neighbors': 3}\n",
      "Cross-validation score: 0.31\n",
      "[[  88  259]\n",
      " [ 119 2622]]\n",
      "[[ 186  161]\n",
      " [ 619 2122]]\n",
      "              precision    recall  f1-score   support\n",
      "\n",
      "           0       0.93      0.77      0.84      2741\n",
      "           1       0.23      0.54      0.32       347\n",
      "\n",
      "    accuracy                           0.75      3088\n",
      "   macro avg       0.58      0.66      0.58      3088\n",
      "weighted avg       0.85      0.75      0.79      3088\n",
      "\n",
      "Model: Logistic Reg\n",
      "Parameter(Optimum): {'C': 25, 'solver': 'lbfgs'}\n",
      "Cross-validation score: 0.42\n",
      "[[ 222  125]\n",
      " [ 488 2253]]\n",
      "[[ 320   27]\n",
      " [2028  713]]\n",
      "              precision    recall  f1-score   support\n",
      "\n",
      "           0       0.96      0.26      0.41      2741\n",
      "           1       0.14      0.92      0.24       347\n",
      "\n",
      "    accuracy                           0.33      3088\n",
      "   macro avg       0.55      0.59      0.32      3088\n",
      "weighted avg       0.87      0.33      0.39      3088\n",
      "\n",
      "Model: LinearSVC\n",
      "Parameter(Optimum): {'C': 10}\n",
      "Cross-validation score: 0.42\n",
      "[[ 219  128]\n",
      " [ 466 2275]]\n",
      "[[  84  263]\n",
      " [  82 2659]]\n",
      "              precision    recall  f1-score   support\n",
      "\n",
      "           0       0.91      0.97      0.94      2741\n",
      "           1       0.51      0.24      0.33       347\n",
      "\n",
      "    accuracy                           0.89      3088\n",
      "   macro avg       0.71      0.61      0.63      3088\n",
      "weighted avg       0.86      0.89      0.87      3088\n",
      "\n",
      "Model: SVM Kernelized\n",
      "Parameter(Optimum): {'C': 1, 'gamma': 0.1}\n",
      "Cross-validation score: 0.44\n",
      "[[ 213  134]\n",
      " [ 476 2265]]\n",
      "[[ 186  161]\n",
      " [ 310 2431]]\n",
      "              precision    recall  f1-score   support\n",
      "\n",
      "           0       0.94      0.89      0.91      2741\n",
      "           1       0.38      0.54      0.44       347\n",
      "\n",
      "    accuracy                           0.85      3088\n",
      "   macro avg       0.66      0.71      0.68      3088\n",
      "weighted avg       0.87      0.85      0.86      3088\n",
      "\n",
      "Model: Decision Tree\n",
      "Parameter(Optimum): {'criterion': 'entropy', 'max_depth': 2, 'max_features': 'log2'}\n",
      "Cross-validation score: 0.37\n",
      "[[ 186  161]\n",
      " [ 509 2232]]\n",
      "[[ 347    0]\n",
      " [2741    0]]\n",
      "              precision    recall  f1-score   support\n",
      "\n",
      "           0       0.00      0.00      0.00      2741\n",
      "           1       0.11      1.00      0.20       347\n",
      "\n",
      "    accuracy                           0.11      3088\n",
      "   macro avg       0.06      0.50      0.10      3088\n",
      "weighted avg       0.01      0.11      0.02      3088\n",
      "\n",
      "Model: Random Forest\n",
      "Parameter(Optimum): {'criterion': 'entropy', 'max_depth': 4, 'max_features': 'auto'}\n",
      "Cross-validation score: 0.43\n",
      "[[ 203  144]\n",
      " [ 464 2277]]\n",
      "[[ 344    3]\n",
      " [2640  101]]\n",
      "              precision    recall  f1-score   support\n",
      "\n",
      "           0       0.97      0.04      0.07      2741\n",
      "           1       0.12      0.99      0.21       347\n",
      "\n",
      "    accuracy                           0.14      3088\n",
      "   macro avg       0.54      0.51      0.14      3088\n",
      "weighted avg       0.87      0.14      0.09      3088\n",
      "\n"
     ]
    },
    {
     "data": {
      "text/html": [
       "<div>\n",
       "<style scoped>\n",
       "    .dataframe tbody tr th:only-of-type {\n",
       "        vertical-align: middle;\n",
       "    }\n",
       "\n",
       "    .dataframe tbody tr th {\n",
       "        vertical-align: top;\n",
       "    }\n",
       "\n",
       "    .dataframe thead th {\n",
       "        text-align: right;\n",
       "    }\n",
       "</style>\n",
       "<table border=\"1\" class=\"dataframe\">\n",
       "  <thead>\n",
       "    <tr style=\"text-align: right;\">\n",
       "      <th></th>\n",
       "      <th>Model</th>\n",
       "      <th>Best_Parameter</th>\n",
       "      <th>Training_score</th>\n",
       "      <th>Testing_score</th>\n",
       "      <th>F1_score</th>\n",
       "      <th>Recall</th>\n",
       "      <th>Precision</th>\n",
       "      <th>AUC Value</th>\n",
       "    </tr>\n",
       "  </thead>\n",
       "  <tbody>\n",
       "    <tr>\n",
       "      <th>LinearSVC</th>\n",
       "      <td>LinearSVC</td>\n",
       "      <td>{'C': 10}</td>\n",
       "      <td>0.801317</td>\n",
       "      <td>0.807642</td>\n",
       "      <td>0.424419</td>\n",
       "      <td>0.631124</td>\n",
       "      <td>0.319708</td>\n",
       "      <td>0.730556</td>\n",
       "    </tr>\n",
       "    <tr>\n",
       "      <th>Logistic Reg</th>\n",
       "      <td>Logistic Reg</td>\n",
       "      <td>{'C': 25, 'solver': 'lbfgs'}</td>\n",
       "      <td>0.797862</td>\n",
       "      <td>0.80149</td>\n",
       "      <td>0.420057</td>\n",
       "      <td>0.639769</td>\n",
       "      <td>0.312676</td>\n",
       "      <td>0.730866</td>\n",
       "    </tr>\n",
       "    <tr>\n",
       "      <th>SVM Kernelized</th>\n",
       "      <td>SVM Kernelized</td>\n",
       "      <td>{'C': 1, 'gamma': 0.1}</td>\n",
       "      <td>0.827125</td>\n",
       "      <td>0.802461</td>\n",
       "      <td>0.411197</td>\n",
       "      <td>0.613833</td>\n",
       "      <td>0.309144</td>\n",
       "      <td>0.720087</td>\n",
       "    </tr>\n",
       "    <tr>\n",
       "      <th>Random Forest</th>\n",
       "      <td>Random Forest</td>\n",
       "      <td>{'criterion': 'entropy', 'max_depth': 4, 'max_...</td>\n",
       "      <td>0.815355</td>\n",
       "      <td>0.803109</td>\n",
       "      <td>0.400394</td>\n",
       "      <td>0.585014</td>\n",
       "      <td>0.304348</td>\n",
       "      <td>0.707867</td>\n",
       "    </tr>\n",
       "    <tr>\n",
       "      <th>Decision Tree</th>\n",
       "      <td>Decision Tree</td>\n",
       "      <td>{'criterion': 'entropy', 'max_depth': 2, 'max_...</td>\n",
       "      <td>0.784904</td>\n",
       "      <td>0.783031</td>\n",
       "      <td>0.357006</td>\n",
       "      <td>0.536023</td>\n",
       "      <td>0.267626</td>\n",
       "      <td>0.675162</td>\n",
       "    </tr>\n",
       "    <tr>\n",
       "      <th>KNN-Classifier</th>\n",
       "      <td>KNN-Classifier</td>\n",
       "      <td>{'n_neighbors': 3}</td>\n",
       "      <td>0.919231</td>\n",
       "      <td>0.877591</td>\n",
       "      <td>0.31769</td>\n",
       "      <td>0.253602</td>\n",
       "      <td>0.425121</td>\n",
       "      <td>0.605094</td>\n",
       "    </tr>\n",
       "  </tbody>\n",
       "</table>\n",
       "</div>"
      ],
      "text/plain": [
       "                         Model  \\\n",
       "LinearSVC            LinearSVC   \n",
       "Logistic Reg      Logistic Reg   \n",
       "SVM Kernelized  SVM Kernelized   \n",
       "Random Forest    Random Forest   \n",
       "Decision Tree    Decision Tree   \n",
       "KNN-Classifier  KNN-Classifier   \n",
       "\n",
       "                                                   Best_Parameter  \\\n",
       "LinearSVC                                               {'C': 10}   \n",
       "Logistic Reg                         {'C': 25, 'solver': 'lbfgs'}   \n",
       "SVM Kernelized                             {'C': 1, 'gamma': 0.1}   \n",
       "Random Forest   {'criterion': 'entropy', 'max_depth': 4, 'max_...   \n",
       "Decision Tree   {'criterion': 'entropy', 'max_depth': 2, 'max_...   \n",
       "KNN-Classifier                                 {'n_neighbors': 3}   \n",
       "\n",
       "               Training_score Testing_score  F1_score    Recall Precision  \\\n",
       "LinearSVC            0.801317      0.807642  0.424419  0.631124  0.319708   \n",
       "Logistic Reg         0.797862       0.80149  0.420057  0.639769  0.312676   \n",
       "SVM Kernelized       0.827125      0.802461  0.411197  0.613833  0.309144   \n",
       "Random Forest        0.815355      0.803109  0.400394  0.585014  0.304348   \n",
       "Decision Tree        0.784904      0.783031  0.357006  0.536023  0.267626   \n",
       "KNN-Classifier       0.919231      0.877591   0.31769  0.253602  0.425121   \n",
       "\n",
       "               AUC Value  \n",
       "LinearSVC       0.730556  \n",
       "Logistic Reg    0.730866  \n",
       "SVM Kernelized  0.720087  \n",
       "Random Forest   0.707867  \n",
       "Decision Tree   0.675162  \n",
       "KNN-Classifier  0.605094  "
      ]
     },
     "execution_count": 59,
     "metadata": {},
     "output_type": "execute_result"
    },
    {
     "data": {
      "image/png": "[encoded data removed]",
      "text/plain": [
       "<Figure size 720x576 with 1 Axes>"
      ]
     },
     "metadata": {
      "needs_background": "light"
     },
     "output_type": "display_data"
    }
   ],
   "source": [
    "Classification_Result_PCA = run_models(X_train_reduced_Bf,X_test_reduced_Bf, models, params, 'f1')\n",
    "Classification_Result_PCA"
   ]
  },
  {
   "cell_type": "code",
   "execution_count": 60,
   "metadata": {},
   "outputs": [
    {
     "data": {
      "image/png": "[encoded data removed]",
      "text/plain": [
       "<Figure size 1152x432 with 1 Axes>"
      ]
     },
     "metadata": {
      "needs_background": "light"
     },
     "output_type": "display_data"
    }
   ],
   "source": [
    "plt.figure(figsize=(16, 6))\n",
    "ax = sns.barplot(x=Classification_Result_PCA.index, y=\"F1_score\", data=Classification_Result_PCA)"
   ]
  },
  {
   "cell_type": "code",
   "execution_count": 61,
   "metadata": {},
   "outputs": [
    {
     "data": {
      "image/png": "[encoded data removed]",
      "text/plain": [
       "<Figure size 1152x432 with 1 Axes>"
      ]
     },
     "metadata": {
      "needs_background": "light"
     },
     "output_type": "display_data"
    }
   ],
   "source": [
    "plt.figure(figsize=(16, 6))\n",
    "df = pd.melt(Classification_Result_PCA, id_vars='Model', value_vars=['F1_score','Recall','Precision','AUC Value'], value_name=\"Score\")\n",
    "ax = sns.barplot(x='Model', y='Score', hue = 'variable', data=df)"
   ]
  },
  {
   "cell_type": "code",
   "execution_count": 62,
   "metadata": {},
   "outputs": [
    {
     "data": {
      "text/html": [
       "<div>\n",
       "<style scoped>\n",
       "    .dataframe tbody tr th:only-of-type {\n",
       "        vertical-align: middle;\n",
       "    }\n",
       "\n",
       "    .dataframe tbody tr th {\n",
       "        vertical-align: top;\n",
       "    }\n",
       "\n",
       "    .dataframe thead th {\n",
       "        text-align: right;\n",
       "    }\n",
       "</style>\n",
       "<table border=\"1\" class=\"dataframe\">\n",
       "  <thead>\n",
       "    <tr style=\"text-align: right;\">\n",
       "      <th></th>\n",
       "      <th>Data</th>\n",
       "      <th>F1_score</th>\n",
       "      <th>Recall</th>\n",
       "      <th>Precision</th>\n",
       "    </tr>\n",
       "  </thead>\n",
       "  <tbody>\n",
       "    <tr>\n",
       "      <th>No PCA</th>\n",
       "      <td>No PCA</td>\n",
       "      <td>0.405821</td>\n",
       "      <td>0.532661</td>\n",
       "      <td>0.348968</td>\n",
       "    </tr>\n",
       "    <tr>\n",
       "      <th>PCA</th>\n",
       "      <td>PCA</td>\n",
       "      <td>0.38846</td>\n",
       "      <td>0.543228</td>\n",
       "      <td>0.323104</td>\n",
       "    </tr>\n",
       "  </tbody>\n",
       "</table>\n",
       "</div>"
      ],
      "text/plain": [
       "          Data  F1_score    Recall Precision\n",
       "No PCA  No PCA  0.405821  0.532661  0.348968\n",
       "PCA        PCA   0.38846  0.543228  0.323104"
      ]
     },
     "execution_count": 62,
     "metadata": {},
     "output_type": "execute_result"
    }
   ],
   "source": [
    "Compare_Result_means=pd.DataFrame(columns=['Data','F1_score','Recall','Precision'],\n",
    "                                   index=['No PCA','PCA'])\n",
    "Compare_Result_means.loc['No PCA'] =['No PCA',Classification_Result.F1_score.mean(),Classification_Result.Recall.mean(),Classification_Result.Precision.mean()]\n",
    "Compare_Result_means.loc['PCA'] =['PCA',Classification_Result_PCA.F1_score.mean(),Classification_Result_PCA.Recall.mean(),Classification_Result_PCA.Precision.mean()]\n",
    "Compare_Result_means"
   ]
  },
  {
   "cell_type": "code",
   "execution_count": 63,
   "metadata": {},
   "outputs": [
    {
     "data": {
      "image/png": "[encoded data removed]",
      "text/plain": [
       "<Figure size 432x288 with 1 Axes>"
      ]
     },
     "metadata": {
      "needs_background": "light"
     },
     "output_type": "display_data"
    }
   ],
   "source": [
    "df = pd.melt(Compare_Result_means, id_vars='Data', value_vars=['F1_score','Recall','Precision'], value_name=\"Score\")\n",
    "ax = sns.barplot(x='Data', y='Score', hue = 'variable', data=df)"
   ]
  },
  {
   "cell_type": "code",
   "execution_count": 64,
   "metadata": {},
   "outputs": [
    {
     "name": "stdout",
     "output_type": "stream",
     "text": [
      "[[  75  272]\n",
      " [  65 2676]]\n",
      "0.30800821355236135\n"
     ]
    }
   ],
   "source": [
    "from sklearn.ensemble import VotingClassifier\n",
    "\n",
    "svm_clf = SVC(gamma=0.1,C=15, probability = True,random_state=0)\n",
    "svm_clf.fit(X_train, y_train)\n",
    "knn_clf = KNeighborsClassifier(3)\n",
    "knn_clf.fit(X_train, y_train)\n",
    "rf_clf = RandomForestClassifier(random_state=0,criterion = 'entropy',max_depth= 25, max_features= 'log2')\n",
    "rf_clf.fit(X_train, y_train)\n",
    "\n",
    "\n",
    "voting_clf = VotingClassifier(estimators=[('rf',rf_clf),('svc', svm_clf), ('knn', knn_clf)], voting='soft')\n",
    "voting_clf.fit(X_train, y_train)\n",
    "\n",
    "y_pred = voting_clf.predict(X_test)\n",
    "print(skm.confusion_matrix(y_test, y_pred,labels=[1,0]))\n",
    "print(skm.f1_score(y_test, y_pred,labels=[1,0]))"
   ]
  },
  {
   "cell_type": "code",
   "execution_count": 65,
   "metadata": {},
   "outputs": [
    {
     "name": "stdout",
     "output_type": "stream",
     "text": [
      "              precision    recall  f1-score   support\n",
      "\n",
      "           1       0.54      0.22      0.31       347\n",
      "           0       0.91      0.98      0.94      2741\n",
      "\n",
      "    accuracy                           0.89      3088\n",
      "   macro avg       0.72      0.60      0.62      3088\n",
      "weighted avg       0.87      0.89      0.87      3088\n",
      "\n"
     ]
    }
   ],
   "source": [
    "print(skm.classification_report(y_test, y_pred,labels=[1,0]))"
   ]
  },
  {
   "cell_type": "code",
   "execution_count": 66,
   "metadata": {},
   "outputs": [
    {
     "data": {
      "text/plain": [
       "<matplotlib.legend.Legend at 0x15dd4ba64a8>"
      ]
     },
     "execution_count": 66,
     "metadata": {},
     "output_type": "execute_result"
    },
    {
     "data": {
      "image/png": "[encoded data removed]",
      "text/plain": [
       "<Figure size 432x288 with 1 Axes>"
      ]
     },
     "metadata": {
      "needs_background": "light"
     },
     "output_type": "display_data"
    }
   ],
   "source": [
    "y_train_prob = voting_clf.predict_proba(X_train)\n",
    "fpr, tpr, threshold = roc_curve(y_train, y_train_prob[:,1])\n",
    "plt.plot(fpr, tpr, label = 'Voting Classifier')\n",
    "plt.xlabel('False Positive Rate')\n",
    "plt.ylabel('True Positive Rate')\n",
    "plt.legend()     "
   ]
  },
  {
   "cell_type": "code",
   "execution_count": 67,
   "metadata": {},
   "outputs": [
    {
     "name": "stdout",
     "output_type": "stream",
     "text": [
      "[[ 149  198]\n",
      " [ 261 2480]]\n",
      "              precision    recall  f1-score   support\n",
      "\n",
      "           0       0.93      0.90      0.92      2741\n",
      "           1       0.36      0.43      0.39       347\n",
      "\n",
      "    accuracy                           0.85      3088\n",
      "   macro avg       0.64      0.67      0.65      3088\n",
      "weighted avg       0.86      0.85      0.86      3088\n",
      "\n"
     ]
    }
   ],
   "source": [
    "y_train_prob_new = voting_clf.predict_proba(X_test)\n",
    "y_pred_new = np.where(y_train_prob_new[:,1] > 0.25, 1, 0)\n",
    "print(skm.confusion_matrix(y_test, y_pred_new,labels=[1,0]))\n",
    "print(skm.classification_report(y_test, y_pred_new))"
   ]
  },
  {
   "cell_type": "code",
   "execution_count": null,
   "metadata": {},
   "outputs": [],
   "source": []
  },
  {
   "cell_type": "markdown",
   "metadata": {},
   "source": [
    "### AdaBoost for Decision Tree Classifier, Logistic Regression "
   ]
  },
  {
   "cell_type": "code",
   "execution_count": 68,
   "metadata": {},
   "outputs": [
    {
     "data": {
      "text/plain": [
       "AdaBoostClassifier(algorithm='SAMME.R',\n",
       "                   base_estimator=DecisionTreeClassifier(class_weight=None,\n",
       "                                                         criterion='gini',\n",
       "                                                         max_depth=1,\n",
       "                                                         max_features=None,\n",
       "                                                         max_leaf_nodes=None,\n",
       "                                                         min_impurity_decrease=0.0,\n",
       "                                                         min_impurity_split=None,\n",
       "                                                         min_samples_leaf=1,\n",
       "                                                         min_samples_split=2,\n",
       "                                                         min_weight_fraction_leaf=0.0,\n",
       "                                                         presort=False,\n",
       "                                                         random_state=None,\n",
       "                                                         splitter='best'),\n",
       "                   learning_rate=1, n_estimators=200, random_state=0)"
      ]
     },
     "execution_count": 68,
     "metadata": {},
     "output_type": "execute_result"
    }
   ],
   "source": [
    "from sklearn.ensemble import AdaBoostClassifier\n",
    "\n",
    "#AdaBoost with DecisionTree Classifier\n",
    "ada_clf = AdaBoostClassifier(\n",
    "    DecisionTreeClassifier(max_depth=1), n_estimators=200,\n",
    "    algorithm=\"SAMME.R\", learning_rate=1, random_state=0)\n",
    "ada_clf.fit(X_train, y_train)"
   ]
  },
  {
   "cell_type": "code",
   "execution_count": 69,
   "metadata": {},
   "outputs": [
    {
     "name": "stdout",
     "output_type": "stream",
     "text": [
      "Train score: 0.90\n",
      "Test score: 0.90\n"
     ]
    }
   ],
   "source": [
    "print('Train score: {:.2f}'.format(ada_clf.score(X_train, y_train)))\n",
    "print('Test score: {:.2f}'.format(ada_clf.score(X_test, y_test)))"
   ]
  },
  {
   "cell_type": "code",
   "execution_count": 70,
   "metadata": {},
   "outputs": [
    {
     "data": {
      "text/plain": [
       "AdaBoostClassifier(algorithm='SAMME.R',\n",
       "                   base_estimator=LogisticRegression(C=1.0, class_weight=None,\n",
       "                                                     dual=False,\n",
       "                                                     fit_intercept=True,\n",
       "                                                     intercept_scaling=1,\n",
       "                                                     l1_ratio=None,\n",
       "                                                     max_iter=100,\n",
       "                                                     multi_class='warn',\n",
       "                                                     n_jobs=None, penalty='l2',\n",
       "                                                     random_state=None,\n",
       "                                                     solver='warn', tol=0.0001,\n",
       "                                                     verbose=0,\n",
       "                                                     warm_start=False),\n",
       "                   learning_rate=1, n_estimators=200, random_state=0)"
      ]
     },
     "execution_count": 70,
     "metadata": {},
     "output_type": "execute_result"
    }
   ],
   "source": [
    "#AdaBoost with Logistic Regression\n",
    "ada_clf = AdaBoostClassifier(\n",
    "    LogisticRegression(), n_estimators=200,\n",
    "    algorithm=\"SAMME.R\", learning_rate=1, random_state=0)\n",
    "ada_clf.fit(X_train, y_train)"
   ]
  },
  {
   "cell_type": "code",
   "execution_count": 71,
   "metadata": {},
   "outputs": [
    {
     "name": "stdout",
     "output_type": "stream",
     "text": [
      "Train score: 0.90\n",
      "Test score: 0.89\n"
     ]
    }
   ],
   "source": [
    "print('Train score: {:.2f}'.format(ada_clf.score(X_train, y_train)))\n",
    "print('Test score: {:.2f}'.format(ada_clf.score(X_test, y_test)))"
   ]
  },
  {
   "cell_type": "code",
   "execution_count": 74,
   "metadata": {},
   "outputs": [
    {
     "name": "stdout",
     "output_type": "stream",
     "text": [
      "[[  72  275]\n",
      " [  50 2691]]\n",
      "0.3070362473347548\n"
     ]
    }
   ],
   "source": [
    "y_pred = ada_clf.predict(X_test)\n",
    "print(skm.confusion_matrix(y_test, y_pred,labels=[1,0]))\n",
    "print(skm.f1_score(y_test, y_pred,labels=[1,0]))"
   ]
  },
  {
   "cell_type": "code",
   "execution_count": 75,
   "metadata": {},
   "outputs": [
    {
     "name": "stdout",
     "output_type": "stream",
     "text": [
      "              precision    recall  f1-score   support\n",
      "\n",
      "           1       0.59      0.21      0.31       347\n",
      "           0       0.91      0.98      0.94      2741\n",
      "\n",
      "    accuracy                           0.89      3088\n",
      "   macro avg       0.75      0.59      0.63      3088\n",
      "weighted avg       0.87      0.89      0.87      3088\n",
      "\n"
     ]
    }
   ],
   "source": [
    "print(skm.classification_report(y_test, y_pred,labels=[1,0]))"
   ]
  },
  {
   "cell_type": "markdown",
   "metadata": {},
   "source": [
    "### Gradient Boosting "
   ]
  },
  {
   "cell_type": "code",
   "execution_count": 72,
   "metadata": {},
   "outputs": [
    {
     "name": "stdout",
     "output_type": "stream",
     "text": [
      "Accuracy on training set: 0.911\n",
      "Accuracy on test set: 0.898\n"
     ]
    }
   ],
   "source": [
    "#GradientBoost Classfier\n",
    "from  sklearn.ensemble import GradientBoostingClassifier\n",
    "gbrt = GradientBoostingClassifier(random_state=0)\n",
    "gbrt.fit(X_train, y_train)\n",
    "\n",
    "print(\"Accuracy on training set: {:.3f}\".format(gbrt.score(X_train, y_train)))\n",
    "print(\"Accuracy on test set: {:.3f}\".format(gbrt.score(X_test, y_test)))"
   ]
  },
  {
   "cell_type": "code",
   "execution_count": 76,
   "metadata": {},
   "outputs": [
    {
     "name": "stdout",
     "output_type": "stream",
     "text": [
      "[[  87  260]\n",
      " [  56 2685]]\n",
      "0.35510204081632657\n"
     ]
    }
   ],
   "source": [
    "y_pred = gbrt.predict(X_test)\n",
    "print(skm.confusion_matrix(y_test, y_pred,labels=[1,0]))\n",
    "print(skm.f1_score(y_test, y_pred,labels=[1,0]))"
   ]
  },
  {
   "cell_type": "code",
   "execution_count": 77,
   "metadata": {},
   "outputs": [
    {
     "name": "stdout",
     "output_type": "stream",
     "text": [
      "              precision    recall  f1-score   support\n",
      "\n",
      "           1       0.61      0.25      0.36       347\n",
      "           0       0.91      0.98      0.94      2741\n",
      "\n",
      "    accuracy                           0.90      3088\n",
      "   macro avg       0.76      0.62      0.65      3088\n",
      "weighted avg       0.88      0.90      0.88      3088\n",
      "\n"
     ]
    }
   ],
   "source": [
    "print(skm.classification_report(y_test, y_pred,labels=[1,0]))"
   ]
  },
  {
   "cell_type": "code",
   "execution_count": null,
   "metadata": {},
   "outputs": [],
   "source": []
  }
 ],
 "metadata": {
  "kernelspec": {
   "display_name": "Python 3",
   "language": "python",
   "name": "python3"
  },
  "language_info": {
   "codemirror_mode": {
    "name": "ipython",
    "version": 3
   },
   "file_extension": ".py",
   "mimetype": "text/x-python",
   "name": "python",
   "nbconvert_exporter": "python",
   "pygments_lexer": "ipython3",
   "version": "3.7.3"
  }
 },
 "nbformat": 4,
 "nbformat_minor": 4
}
